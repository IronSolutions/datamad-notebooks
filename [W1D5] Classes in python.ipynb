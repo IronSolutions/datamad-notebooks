{
 "cells": [
  {
   "cell_type": "code",
   "execution_count": 12,
   "metadata": {},
   "outputs": [
    {
     "data": {
      "text/plain": [
       "'Pepe'"
      ]
     },
     "execution_count": 12,
     "metadata": {},
     "output_type": "execute_result"
    }
   ],
   "source": [
    "a = {\n",
    "    \"nombre\":\"Pepe\",\n",
    "    \"apellidos\":\"Garcia\",\n",
    "    \"kjahsdlkf\":\"Pepe\"\n",
    "}\n",
    "\n",
    "a.get(\"nombre\", 22)"
   ]
  },
  {
   "cell_type": "code",
   "execution_count": 11,
   "metadata": {},
   "outputs": [
    {
     "data": {
      "text/plain": [
       "[('nombre', 'Pepe'), ('kjahsdlkf', 'Pepe')]"
      ]
     },
     "execution_count": 11,
     "metadata": {},
     "output_type": "execute_result"
    }
   ],
   "source": [
    "[m for m in a.items() if m[1] == \"Pepe\"]"
   ]
  },
  {
   "cell_type": "markdown",
   "metadata": {},
   "source": [
    "# Classes"
   ]
  },
  {
   "cell_type": "code",
   "execution_count": 17,
   "metadata": {},
   "outputs": [
    {
     "name": "stdout",
     "output_type": "stream",
     "text": [
      "El mando SI funciona\n",
      "{'marca': 'Casio', 'funciona': True, 'pilas': [{'format': 'AAA', 'charge': 100}, {'format': 'AAA', 'charge': 50}]}\n",
      "El mando SI funciona\n",
      "{'marca': 'Casio', 'funciona': True, 'pilas': [{'format': 'AAA', 'charge': 100}, {'format': 'AAA', 'charge': 50}]}\n"
     ]
    }
   ],
   "source": [
    "def compruebaFuncionamiento(m):\n",
    "    for pila in m[\"pilas\"]:\n",
    "        if pila[\"charge\"] < 10:\n",
    "            print(\"El mando no funciona\")\n",
    "            m[\"funciona\"] = False\n",
    "            return m\n",
    "    print(\"El mando SI funciona\")\n",
    "    m[\"funciona\"] = True\n",
    "    return m\n",
    "\n",
    "mando_OK = {\n",
    "    \"marca\":\"Casio\",\n",
    "    \"funciona\":True,\n",
    "    \"pilas\":[{ \"format\":\"AAA\", \"charge\": 100 }, { \"format\":\"AAA\", \"charge\": 50 }]\n",
    "}\n",
    "\n",
    "mando_FAIL = {\n",
    "    \"marca\":\"Casio\",\n",
    "    \"funciona\":False,\n",
    "    \"pilas\":[{ \"format\":\"AAA\", \"charge\": 100 }, { \"format\":\"AAA\", \"charge\": 50 }]\n",
    "}\n",
    "\n",
    "\n",
    "print(compruebaFuncionamiento(mando_OK))\n",
    "print(compruebaFuncionamiento(mando_FAIL))"
   ]
  },
  {
   "cell_type": "code",
   "execution_count": 20,
   "metadata": {},
   "outputs": [
    {
     "name": "stdout",
     "output_type": "stream",
     "text": [
      "El mando no funciona\n",
      "{'marca': 'Casio', 'funciona': False, 'pilas': [{'format': 'AAA', 'charge': 5}, {'format': 'AAA', 'charge': 5}]}\n",
      "PILAS CAMBIADAS\n",
      "El mando SI funciona\n",
      "{'marca': 'Casio', 'funciona': True, 'pilas': [{'format': 'AAA', 'charge': 100}, {'format': 'AAA', 'charge': 100}]}\n"
     ]
    }
   ],
   "source": [
    "def cambiaPilas(m):\n",
    "    m[\"pilas\"] = [{ \"format\":\"AAA\", \"charge\": 100 }, { \"format\":\"AAA\", \"charge\": 100 }]\n",
    "    print(\"PILAS CAMBIADAS\")\n",
    "    return m\n",
    "\n",
    "mando_FAIL_NOPILAS = {\n",
    "    \"marca\":\"Casio\",\n",
    "    \"funciona\":False,\n",
    "    \"pilas\":[{ \"format\":\"AAA\", \"charge\": 5 }, { \"format\":\"AAA\", \"charge\": 5 }]\n",
    "}\n",
    "\n",
    "print(compruebaFuncionamiento(mando_FAIL_NOPILAS))\n",
    "cambiaPilas(mando_FAIL_NOPILAS)\n",
    "print(compruebaFuncionamiento(mando_FAIL_NOPILAS))\n",
    "\n"
   ]
  },
  {
   "cell_type": "code",
   "execution_count": 32,
   "metadata": {},
   "outputs": [
    {
     "name": "stdout",
     "output_type": "stream",
     "text": [
      "constructor\n",
      "<__main__.Mando object at 0x1087d73c8>\n",
      "Casio negro False []\n",
      "constructor\n",
      "<__main__.Mando object at 0x1087d7470>\n",
      "Sony blanco False []\n"
     ]
    }
   ],
   "source": [
    "class Mando():\n",
    "    def __init__(self, marca, color=\"blanco\"):\n",
    "        print(\"constructor\")\n",
    "        self.marca = marca\n",
    "        self.color = color\n",
    "        self.funciona = False\n",
    "        self.pilas = []\n",
    "        \n",
    "# Instance 1\n",
    "m1 = Mando(\"Casio\", \"negro\")\n",
    "print(m1)\n",
    "print(m1.marca, m1.color, m1.funciona, m1.pilas)\n",
    "\n",
    "# Instance 2\n",
    "m2 = Mando(\"Sony\")\n",
    "print(m2)\n",
    "print(m2.marca,m2.color, m2.funciona, m2.pilas)\n",
    "\n"
   ]
  },
  {
   "cell_type": "code",
   "execution_count": 38,
   "metadata": {},
   "outputs": [
    {
     "name": "stdout",
     "output_type": "stream",
     "text": [
      "constructor\n",
      "\n",
      "        Marca: Samsung\n",
      "        Funciona: False\n",
      "        Color: blanco\n",
      "        Pilas: []\n",
      "        \n",
      "Hola\n"
     ]
    }
   ],
   "source": [
    "class Mando():\n",
    "    def __init__(self, marca, color=\"blanco\"):\n",
    "        print(\"constructor\")\n",
    "        self.marca = marca\n",
    "        self.color = color\n",
    "        self.funciona = False\n",
    "        self.pilas = []\n",
    "    \n",
    "    def imprime(self):\n",
    "        print(\"\"\"\n",
    "        Marca: {}\n",
    "        Funciona: {}\n",
    "        Color: {}\n",
    "        Pilas: {}\n",
    "        \"\"\".format(self.marca, self.funciona, self.color, self.pilas))\n",
    "        return \"Hola\"\n",
    "\n",
    "        \n",
    "m = Mando(\"Samsung\")\n",
    "a = m.imprime()\n",
    "print(a)"
   ]
  },
  {
   "cell_type": "code",
   "execution_count": 41,
   "metadata": {},
   "outputs": [
    {
     "name": "stdout",
     "output_type": "stream",
     "text": [
      "constructor\n",
      "\n",
      "        Marca: Samsung\n",
      "        Funciona: False\n",
      "        Color: blanco\n",
      "        Pilas: []\n",
      "        \n",
      "Hola\n"
     ]
    }
   ],
   "source": [
    "m5 = Mando(\"Samsung\").imprime()\n",
    "print(m5)"
   ]
  },
  {
   "cell_type": "code",
   "execution_count": 66,
   "metadata": {},
   "outputs": [
    {
     "name": "stdout",
     "output_type": "stream",
     "text": [
      "Marca: LG\n",
      " Funciona: False\n",
      " Color: blanco\n",
      " Pilas: []\n",
      "\n",
      "Marca: LG\n",
      " Funciona: True\n",
      " Color: blanco\n",
      " Pilas: [{'format': 'AAA', 'charge': 10}, {'format': 'AAA', 'charge': 10}]\n",
      "\n"
     ]
    },
    {
     "data": {
      "text/plain": [
       "'Hola'"
      ]
     },
     "execution_count": 66,
     "metadata": {},
     "output_type": "execute_result"
    }
   ],
   "source": [
    "class Mando():\n",
    "    def __init__(self, marca, color=\"blanco\"):\n",
    "        self.marca = marca\n",
    "        self.color = color\n",
    "        self.pilas = []\n",
    "    \n",
    "    def cambiaPilas(self, carga=100):\n",
    "        pila = {'format': 'AAA', 'charge': carga}\n",
    "        self.pilas = []\n",
    "        self.pilas.append(pila)\n",
    "        self.pilas.append(pila)\n",
    "    \n",
    "    def funciona(self):\n",
    "        if not len(self.pilas): return False     \n",
    "        for pila in self.pilas:\n",
    "            if pila[\"charge\"] <= 5: return False\n",
    "        return True\n",
    "\n",
    "    def imprime(self):\n",
    "        params = [self.marca, str(self.funciona()), self.color, self.pilas]\n",
    "        print(\"Marca: {}\\n Funciona: {}\\n Color: {}\\n Pilas: {}\\n\".format(*params))\n",
    "        return \"Hola\"\n",
    "\n",
    "q = Mando(\"LG\")\n",
    "q.imprime()\n",
    "q.cambiaPilas(10)\n",
    "q.imprime()"
   ]
  },
  {
   "cell_type": "code",
   "execution_count": 79,
   "metadata": {},
   "outputs": [
    {
     "name": "stdout",
     "output_type": "stream",
     "text": [
      "Marca: Nokia\n",
      "Color: blanco\n",
      " \n",
      "\n",
      "Marca: Nokia\n",
      "Color: blanco\n",
      " \n",
      "\n",
      "<__main__.Producto object at 0x1087cdd68> <__main__.Mando object at 0x1087cda58>\n",
      "Hola\n"
     ]
    }
   ],
   "source": [
    "class Producto():\n",
    "    def __init__(self, marca, color=\"blanco\"):\n",
    "        self.marca = marca\n",
    "        self.color = color\n",
    "    def imprime(self):\n",
    "        params = [self.marca, self.color]\n",
    "        print(\"Marca: {}\\nColor: {}\\n \\n\".format(*params))\n",
    "\n",
    "\n",
    "class Mando(Producto):\n",
    "    def cambiaPilas(self, carga=100):\n",
    "        pila = {'format': 'AAA', 'charge': carga}\n",
    "        self.pilas = []\n",
    "        self.pilas.append(pila)\n",
    "        self.pilas.append(pila)\n",
    "    \n",
    "    def funciona(self):\n",
    "        if not len(self.pilas): return False     \n",
    "        for pila in self.pilas:\n",
    "            if pila[\"charge\"] <= 5: return False\n",
    "        return True\n",
    "        \n",
    "p = Producto(\"Nokia\")\n",
    "p.imprime()\n",
    "\n",
    "m = Mando(\"Nokia\")\n",
    "m.imprime()\n",
    "print(p,m)\n",
    "\n",
    "if isinstance(m, Producto):\n",
    "    print(\"Hola\")\n",
    "    \n",
    "if isinstance(p, Mando):\n",
    "    print(\"Hola\")"
   ]
  },
  {
   "cell_type": "code",
   "execution_count": 94,
   "metadata": {},
   "outputs": [
    {
     "name": "stdout",
     "output_type": "stream",
     "text": [
      "Marca: LG\n",
      "Color: Negro\n",
      "Funciona: True\n",
      "Pilas: [{'format': 'AAA', 'charge': 100}, {'format': 'AAA', 'charge': 100}]\n"
     ]
    }
   ],
   "source": [
    "class Producto():\n",
    "    def __init__(self, marca, color=\"blanco\"):\n",
    "        self.marca = marca\n",
    "        self.color = color\n",
    "        \n",
    "    def imprime(self):\n",
    "        params = [self.marca, self.color]\n",
    "        print(\"Marca: {}\\nColor: {}\".format(*params))\n",
    "\n",
    "\n",
    "class Mando(Producto):\n",
    "    def __init__(self,marca):\n",
    "        super(Mando, self).__init__(marca, \"Negro\")\n",
    "        self.pilas = []\n",
    "        \n",
    "    def cambiaPilas(self, carga=100):\n",
    "        pila = {'format': 'AAA', 'charge': carga}\n",
    "        self.pilas = []\n",
    "        self.pilas.append(pila)\n",
    "        self.pilas.append(pila)\n",
    "    \n",
    "    def imprime(self):\n",
    "        super(Mando, self).imprime()\n",
    "        print(\"Funciona: {}\\nPilas: {}\". format(self.funciona(), self.pilas))\n",
    "    \n",
    "    def funciona(self):\n",
    "        if not len(self.pilas): return False     \n",
    "        for pila in self.pilas:\n",
    "            if pila[\"charge\"] <= 5: return False\n",
    "        return True\n",
    "\n",
    "m = Mando(\"LG\")\n",
    "m.cambiaPilas()\n",
    "m.funciona()\n",
    "m.imprime()"
   ]
  },
  {
   "cell_type": "code",
   "execution_count": 98,
   "metadata": {},
   "outputs": [
    {
     "name": "stdout",
     "output_type": "stream",
     "text": [
      "Hola Pepe\n",
      "Pepe\n"
     ]
    }
   ],
   "source": [
    "class SaludadorGenerico():\n",
    "    def hey(self):\n",
    "        print(self.hola)\n",
    "\n",
    "class Saludador(SaludadorGenerico):\n",
    "    def __init__(self, saludo):\n",
    "        self.hola = \"Hola {}\".format(saludo)\n",
    "        \n",
    "Saludador(\"Pepe\").hey()\n",
    "        \n",
    "q = SaludadorGenerico()\n",
    "q.hola = \"Pepe\"\n",
    "q.hey()"
   ]
  },
  {
   "cell_type": "code",
   "execution_count": 106,
   "metadata": {},
   "outputs": [
    {
     "name": "stdout",
     "output_type": "stream",
     "text": [
      "Marca: LG\n",
      "Color: Negro\n",
      "Funciona: False\n",
      "Pilas: []\n"
     ]
    }
   ],
   "source": [
    "\n",
    "class Producto():\n",
    "    def __init__(self, marca, color=\"blanco\"):\n",
    "        self.marca = marca\n",
    "        self.color = color\n",
    "        \n",
    "    def imprime(self):\n",
    "        params = [self.marca, self.color]\n",
    "        print(\"Marca: {}\\nColor: {}\".format(*params))\n",
    "\n",
    "\n",
    "class Mando(Producto):\n",
    "    def __init__(self,marca):\n",
    "        super(Mando, self).__init__(marca, \"Negro\")\n",
    "        self.pilas = []\n",
    "        \n",
    "    def cambiaPilas(self, carga=100):\n",
    "        pila = {'format': 'AAA', 'charge': carga}\n",
    "        self.pilas = []\n",
    "        self.pilas.append(pila)\n",
    "        self.pilas.append(pila)\n",
    "    \n",
    "    def __repr__(self):\n",
    "        super(Mando, self).imprime()\n",
    "        return \"Funciona: {}\\nPilas: {}\". format(self.funciona(), self.pilas)\n",
    "    \n",
    "    def funciona(self):\n",
    "        if not len(self.pilas): return False     \n",
    "        for pila in self.pilas:\n",
    "            if pila[\"charge\"] <= 5: return False\n",
    "        return True\n",
    "\n",
    "m = Mando(\"LG\")\n",
    "print(m)"
   ]
  },
  {
   "cell_type": "code",
   "execution_count": null,
   "metadata": {},
   "outputs": [],
   "source": []
  }
 ],
 "metadata": {
  "kernelspec": {
   "display_name": "Python 3",
   "language": "python",
   "name": "python3"
  },
  "language_info": {
   "codemirror_mode": {
    "name": "ipython",
    "version": 3
   },
   "file_extension": ".py",
   "mimetype": "text/x-python",
   "name": "python",
   "nbconvert_exporter": "python",
   "pygments_lexer": "ipython3",
   "version": "3.7.3"
  }
 },
 "nbformat": 4,
 "nbformat_minor": 2
}
