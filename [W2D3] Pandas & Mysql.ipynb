{
 "cells": [
  {
   "cell_type": "code",
   "execution_count": 23,
   "metadata": {},
   "outputs": [
    {
     "name": "stdout",
     "output_type": "stream",
     "text": [
      "········\n",
      "Connected to DB!\n"
     ]
    }
   ],
   "source": [
    "import getpass\n",
    "import pymysql\n",
    "from sqlalchemy import create_engine\n",
    "\n",
    "mysql_domain = \"localhost\"\n",
    "mysql_user = \"root\"\n",
    "mysql_password = getpass.getpass()\n",
    "mysql_db = \"publis\"\n",
    "\n",
    "dbdata = [mysql_user, mysql_password, mysql_domain, mysql_db]\n",
    "connection_url = 'mysql+pymysql://{}:{}@{}/{}'.format(*dbdata)\n",
    "engine = create_engine(connection_url)\n",
    "print(\"Connected to DB!\")"
   ]
  },
  {
   "cell_type": "code",
   "execution_count": 24,
   "metadata": {},
   "outputs": [
    {
     "name": "stdout",
     "output_type": "stream",
     "text": [
      "(43, 2)\n"
     ]
    },
    {
     "data": {
      "text/html": [
       "<div>\n",
       "<style scoped>\n",
       "    .dataframe tbody tr th:only-of-type {\n",
       "        vertical-align: middle;\n",
       "    }\n",
       "\n",
       "    .dataframe tbody tr th {\n",
       "        vertical-align: top;\n",
       "    }\n",
       "\n",
       "    .dataframe thead th {\n",
       "        text-align: right;\n",
       "    }\n",
       "</style>\n",
       "<table border=\"1\" class=\"dataframe\">\n",
       "  <thead>\n",
       "    <tr style=\"text-align: right;\">\n",
       "      <th></th>\n",
       "      <th>emp_id</th>\n",
       "      <th>Name</th>\n",
       "    </tr>\n",
       "  </thead>\n",
       "  <tbody>\n",
       "    <tr>\n",
       "      <th>0</th>\n",
       "      <td>A-C71970F</td>\n",
       "      <td>Aria Cruz</td>\n",
       "    </tr>\n",
       "    <tr>\n",
       "      <th>1</th>\n",
       "      <td>A-R89858F</td>\n",
       "      <td>Annette Roulet</td>\n",
       "    </tr>\n",
       "    <tr>\n",
       "      <th>2</th>\n",
       "      <td>AMD15433F</td>\n",
       "      <td>Ann Devon</td>\n",
       "    </tr>\n",
       "    <tr>\n",
       "      <th>3</th>\n",
       "      <td>ARD36773F</td>\n",
       "      <td>Anabela Domingues</td>\n",
       "    </tr>\n",
       "    <tr>\n",
       "      <th>4</th>\n",
       "      <td>CFH28514M</td>\n",
       "      <td>Carlos Hernadez</td>\n",
       "    </tr>\n",
       "  </tbody>\n",
       "</table>\n",
       "</div>"
      ],
      "text/plain": [
       "      emp_id               Name\n",
       "0  A-C71970F          Aria Cruz\n",
       "1  A-R89858F     Annette Roulet\n",
       "2  AMD15433F          Ann Devon\n",
       "3  ARD36773F  Anabela Domingues\n",
       "4  CFH28514M    Carlos Hernadez"
      ]
     },
     "execution_count": 24,
     "metadata": {},
     "output_type": "execute_result"
    }
   ],
   "source": [
    "import pandas as pd\n",
    "\n",
    "sqlquery = \"\"\"\n",
    "SELECT emp_id, concat(fname,\" \",lname) Name FROM employee\n",
    "\"\"\"\n",
    "\n",
    "data = pd.read_sql_query(sqlquery, engine)\n",
    "print(data.shape)\n",
    "data.head()"
   ]
  },
  {
   "cell_type": "code",
   "execution_count": null,
   "metadata": {},
   "outputs": [],
   "source": []
  }
 ],
 "metadata": {
  "kernelspec": {
   "display_name": "Python 3",
   "language": "python",
   "name": "python3"
  },
  "language_info": {
   "codemirror_mode": {
    "name": "ipython",
    "version": 3
   },
   "file_extension": ".py",
   "mimetype": "text/x-python",
   "name": "python",
   "nbconvert_exporter": "python",
   "pygments_lexer": "ipython3",
   "version": "3.7.3"
  }
 },
 "nbformat": 4,
 "nbformat_minor": 2
}
