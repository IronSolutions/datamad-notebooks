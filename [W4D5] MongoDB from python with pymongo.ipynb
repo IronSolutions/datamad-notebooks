{
 "cells": [
  {
   "cell_type": "code",
   "execution_count": 2,
   "metadata": {},
   "outputs": [],
   "source": [
    "# https://api.mongodb.com/python/current/tutorial.html\n",
    "\n",
    "from pymongo import MongoClient\n",
    "\n",
    "client = MongoClient('mongodb://localhost:27017/')\n",
    "db = client.restaurantitos"
   ]
  },
  {
   "cell_type": "code",
   "execution_count": 37,
   "metadata": {},
   "outputs": [],
   "source": []
  },
  {
   "cell_type": "code",
   "execution_count": 42,
   "metadata": {},
   "outputs": [
    {
     "name": "stdout",
     "output_type": "stream",
     "text": [
      "{'_id': ObjectId('5d1dde65e0aeedf6e06b9d2c'),\n",
      " 'address': {'building': '7114',\n",
      "             'coord': [{'$numberDouble': '-73.9068506'},\n",
      "                       {'$numberDouble': '40.6199034'}],\n",
      "             'street': 'Avenue U',\n",
      "             'zipcode': '11234'},\n",
      " 'borough': 'Brooklyn',\n",
      " 'cuisine': 'Delicatessen',\n",
      " 'grades': [{'date': datetime.datetime(2014, 5, 29, 0, 0),\n",
      "             'grade': 'A',\n",
      "             'score': 10},\n",
      "            {'date': datetime.datetime(2014, 1, 14, 0, 0),\n",
      "             'grade': 'A',\n",
      "             'score': 10},\n",
      "            {'date': datetime.datetime(2013, 8, 3, 0, 0),\n",
      "             'grade': 'A',\n",
      "             'score': 8},\n",
      "            {'date': datetime.datetime(2012, 7, 18, 0, 0),\n",
      "             'grade': 'A',\n",
      "             'score': 10},\n",
      "            {'date': datetime.datetime(2012, 3, 9, 0, 0),\n",
      "             'grade': 'A',\n",
      "             'score': 13},\n",
      "            {'date': datetime.datetime(2011, 10, 14, 0, 0),\n",
      "             'grade': 'A',\n",
      "             'score': 9}],\n",
      " 'name': \"Wilken'S Fine Food\",\n",
      " 'restaurant_id': '40356483'}\n",
      "{'_id': ObjectId('5d1dde65e0aeedf6e06b9d2d'),\n",
      " 'address': {'building': '6409',\n",
      "             'coord': [{'$numberDouble': '-74.00528899999999'},\n",
      "                       {'$numberDouble': '40.628886'}],\n",
      "             'street': '11 Avenue',\n",
      "             'zipcode': '11219'},\n",
      " 'borough': 'Brooklyn',\n",
      " 'cuisine': 'American',\n",
      " 'grades': [{'date': datetime.datetime(2014, 7, 18, 0, 0),\n",
      "             'grade': 'A',\n",
      "             'score': 12},\n",
      "            {'date': datetime.datetime(2013, 7, 30, 0, 0),\n",
      "             'grade': 'A',\n",
      "             'score': 12},\n",
      "            {'date': datetime.datetime(2013, 2, 13, 0, 0),\n",
      "             'grade': 'A',\n",
      "             'score': 11},\n",
      "            {'date': datetime.datetime(2012, 8, 16, 0, 0),\n",
      "             'grade': 'A',\n",
      "             'score': 2},\n",
      "            {'date': datetime.datetime(2011, 8, 17, 0, 0),\n",
      "             'grade': 'A',\n",
      "             'score': 11}],\n",
      " 'name': 'Regina Caterers',\n",
      " 'restaurant_id': '40356649'}\n"
     ]
    }
   ],
   "source": [
    "import pprint\n",
    "\n",
    "restaurantes = db.rests.find({\"borough\":\"Brooklyn\"}).skip(2).limit(2)\n",
    "for i,restaurante in enumerate(restaurantes):\n",
    "    pprint.pprint(restaurante)\n",
    "    if i == 5:\n",
    "        break"
   ]
  },
  {
   "cell_type": "code",
   "execution_count": 41,
   "metadata": {},
   "outputs": [
    {
     "name": "stdout",
     "output_type": "stream",
     "text": [
      "Total 25361\n",
      "CPU times: user 370 ms, sys: 48 ms, total: 418 ms\n",
      "Wall time: 444 ms\n"
     ]
    }
   ],
   "source": [
    "%%time \n",
    "rests = list(db.rests.find())\n",
    "print(f\"Total {len(rests)}\")"
   ]
  },
  {
   "cell_type": "code",
   "execution_count": 30,
   "metadata": {},
   "outputs": [
    {
     "name": "stdout",
     "output_type": "stream",
     "text": [
      "Total 25361\n",
      "CPU times: user 1.57 ms, sys: 842 µs, total: 2.42 ms\n",
      "Wall time: 3.26 ms\n"
     ]
    },
    {
     "name": "stderr",
     "output_type": "stream",
     "text": [
      "/usr/local/lib/python3.7/site-packages/ipykernel_launcher.py:1: DeprecationWarning: count is deprecated. Use Collection.count_documents instead.\n",
      "  \"\"\"Entry point for launching an IPython kernel.\n"
     ]
    }
   ],
   "source": [
    "%%time \n",
    "total = db.rests.find().count()\n",
    "print(f\"Total {total}\")"
   ]
  },
  {
   "cell_type": "code",
   "execution_count": 31,
   "metadata": {},
   "outputs": [
    {
     "data": {
      "text/html": [
       "<div>\n",
       "<style scoped>\n",
       "    .dataframe tbody tr th:only-of-type {\n",
       "        vertical-align: middle;\n",
       "    }\n",
       "\n",
       "    .dataframe tbody tr th {\n",
       "        vertical-align: top;\n",
       "    }\n",
       "\n",
       "    .dataframe thead th {\n",
       "        text-align: right;\n",
       "    }\n",
       "</style>\n",
       "<table border=\"1\" class=\"dataframe\">\n",
       "  <thead>\n",
       "    <tr style=\"text-align: right;\">\n",
       "      <th></th>\n",
       "      <th>_id</th>\n",
       "      <th>address</th>\n",
       "      <th>borough</th>\n",
       "      <th>cuisine</th>\n",
       "      <th>grades</th>\n",
       "      <th>name</th>\n",
       "      <th>restaurant_id</th>\n",
       "    </tr>\n",
       "  </thead>\n",
       "  <tbody>\n",
       "    <tr>\n",
       "      <th>0</th>\n",
       "      <td>5d1dde65e0aeedf6e06b9d26</td>\n",
       "      <td>{'building': '469', 'coord': [{'$numberDouble'...</td>\n",
       "      <td>Brooklyn</td>\n",
       "      <td>Hamburgers</td>\n",
       "      <td>[{'date': 2014-12-30 00:00:00, 'grade': 'A', '...</td>\n",
       "      <td>Wendy'S</td>\n",
       "      <td>30112340</td>\n",
       "    </tr>\n",
       "    <tr>\n",
       "      <th>1</th>\n",
       "      <td>5d1dde65e0aeedf6e06b9d27</td>\n",
       "      <td>{'building': '351', 'coord': [{'$numberDouble'...</td>\n",
       "      <td>Manhattan</td>\n",
       "      <td>Irish</td>\n",
       "      <td>[{'date': 2014-09-06 00:00:00, 'grade': 'A', '...</td>\n",
       "      <td>Dj Reynolds Pub And Restaurant</td>\n",
       "      <td>30191841</td>\n",
       "    </tr>\n",
       "    <tr>\n",
       "      <th>2</th>\n",
       "      <td>5d1dde65e0aeedf6e06b9d28</td>\n",
       "      <td>{'building': '2780', 'coord': [{'$numberDouble...</td>\n",
       "      <td>Brooklyn</td>\n",
       "      <td>American</td>\n",
       "      <td>[{'date': 2014-06-10 00:00:00, 'grade': 'A', '...</td>\n",
       "      <td>Riviera Caterer</td>\n",
       "      <td>40356018</td>\n",
       "    </tr>\n",
       "    <tr>\n",
       "      <th>3</th>\n",
       "      <td>5d1dde65e0aeedf6e06b9d29</td>\n",
       "      <td>{'building': '97-22', 'coord': [{'$numberDoubl...</td>\n",
       "      <td>Queens</td>\n",
       "      <td>Jewish/Kosher</td>\n",
       "      <td>[{'date': 2014-11-24 00:00:00, 'grade': 'Z', '...</td>\n",
       "      <td>Tov Kosher Kitchen</td>\n",
       "      <td>40356068</td>\n",
       "    </tr>\n",
       "    <tr>\n",
       "      <th>4</th>\n",
       "      <td>5d1dde65e0aeedf6e06b9d2a</td>\n",
       "      <td>{'building': '8825', 'coord': [{'$numberDouble...</td>\n",
       "      <td>Queens</td>\n",
       "      <td>American</td>\n",
       "      <td>[{'date': 2014-11-15 00:00:00, 'grade': 'Z', '...</td>\n",
       "      <td>Brunos On The Boulevard</td>\n",
       "      <td>40356151</td>\n",
       "    </tr>\n",
       "  </tbody>\n",
       "</table>\n",
       "</div>"
      ],
      "text/plain": [
       "                        _id  \\\n",
       "0  5d1dde65e0aeedf6e06b9d26   \n",
       "1  5d1dde65e0aeedf6e06b9d27   \n",
       "2  5d1dde65e0aeedf6e06b9d28   \n",
       "3  5d1dde65e0aeedf6e06b9d29   \n",
       "4  5d1dde65e0aeedf6e06b9d2a   \n",
       "\n",
       "                                             address    borough  \\\n",
       "0  {'building': '469', 'coord': [{'$numberDouble'...   Brooklyn   \n",
       "1  {'building': '351', 'coord': [{'$numberDouble'...  Manhattan   \n",
       "2  {'building': '2780', 'coord': [{'$numberDouble...   Brooklyn   \n",
       "3  {'building': '97-22', 'coord': [{'$numberDoubl...     Queens   \n",
       "4  {'building': '8825', 'coord': [{'$numberDouble...     Queens   \n",
       "\n",
       "         cuisine                                             grades  \\\n",
       "0     Hamburgers  [{'date': 2014-12-30 00:00:00, 'grade': 'A', '...   \n",
       "1          Irish  [{'date': 2014-09-06 00:00:00, 'grade': 'A', '...   \n",
       "2       American  [{'date': 2014-06-10 00:00:00, 'grade': 'A', '...   \n",
       "3  Jewish/Kosher  [{'date': 2014-11-24 00:00:00, 'grade': 'Z', '...   \n",
       "4       American  [{'date': 2014-11-15 00:00:00, 'grade': 'Z', '...   \n",
       "\n",
       "                             name restaurant_id  \n",
       "0                         Wendy'S      30112340  \n",
       "1  Dj Reynolds Pub And Restaurant      30191841  \n",
       "2                 Riviera Caterer      40356018  \n",
       "3              Tov Kosher Kitchen      40356068  \n",
       "4         Brunos On The Boulevard      40356151  "
      ]
     },
     "execution_count": 31,
     "metadata": {},
     "output_type": "execute_result"
    }
   ],
   "source": [
    "import pandas as pd\n",
    "restaurants = db.rests.find().limit(5)\n",
    "\n",
    "pd.DataFrame(restaurants)"
   ]
  },
  {
   "cell_type": "code",
   "execution_count": null,
   "metadata": {},
   "outputs": [],
   "source": []
  }
 ],
 "metadata": {
  "kernelspec": {
   "display_name": "Python 3",
   "language": "python",
   "name": "python3"
  },
  "language_info": {
   "codemirror_mode": {
    "name": "ipython",
    "version": 3
   },
   "file_extension": ".py",
   "mimetype": "text/x-python",
   "name": "python",
   "nbconvert_exporter": "python",
   "pygments_lexer": "ipython3",
   "version": "3.7.3"
  }
 },
 "nbformat": 4,
 "nbformat_minor": 2
}
