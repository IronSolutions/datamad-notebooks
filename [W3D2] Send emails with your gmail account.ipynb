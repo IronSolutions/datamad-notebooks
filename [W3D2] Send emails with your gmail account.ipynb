{
 "cells": [
  {
   "cell_type": "code",
   "execution_count": 1,
   "metadata": {},
   "outputs": [
    {
     "name": "stdout",
     "output_type": "stream",
     "text": [
      "Enter your gmail account: boyander@gmail.com\n",
      "Enter your password: ········\n",
      "Connected to gmail servers\n"
     ]
    }
   ],
   "source": [
    "import smtplib\n",
    "import getpass\n",
    "\n",
    "gmail_user = input(\"Enter your gmail account: \")\n",
    "gmail_password = getpass.getpass(\"Enter your password: \")\n",
    "\n",
    "try:  \n",
    "    server = smtplib.SMTP_SSL('smtp.gmail.com', 465)\n",
    "    server.ehlo()\n",
    "    server.login(gmail_user, gmail_password)\n",
    "    print(\"Connected to gmail servers\")\n",
    "except:  \n",
    "    print(\"Something went wrong...\")"
   ]
  },
  {
   "cell_type": "code",
   "execution_count": 2,
   "metadata": {},
   "outputs": [
    {
     "name": "stdout",
     "output_type": "stream",
     "text": [
      "Who should receive the mail?alejandraaranzadi@gmail.com\n"
     ]
    },
    {
     "data": {
      "text/plain": [
       "{}"
      ]
     },
     "execution_count": 2,
     "metadata": {},
     "output_type": "execute_result"
    }
   ],
   "source": [
    "# Mail Content\n",
    "from_mail = gmail_user\n",
    "to = input(\"Who should receive the mail?\")\n",
    "body = \"Hola!! que tal?\"\n",
    "\n",
    "# Send the mail to SMTP gmail server\n",
    "server.sendmail(from_mail, to, body)\n",
    "\n",
    "# Want more? https://stackoverflow.com/questions/882712/sending-html-email-using-python"
   ]
  },
  {
   "cell_type": "code",
   "execution_count": null,
   "metadata": {},
   "outputs": [],
   "source": [
    "# Close connection\n",
    "server.close()"
   ]
  }
 ],
 "metadata": {
  "kernelspec": {
   "display_name": "Python 3",
   "language": "python",
   "name": "python3"
  },
  "language_info": {
   "codemirror_mode": {
    "name": "ipython",
    "version": 3
   },
   "file_extension": ".py",
   "mimetype": "text/x-python",
   "name": "python",
   "nbconvert_exporter": "python",
   "pygments_lexer": "ipython3",
   "version": "3.7.3"
  }
 },
 "nbformat": 4,
 "nbformat_minor": 2
}
