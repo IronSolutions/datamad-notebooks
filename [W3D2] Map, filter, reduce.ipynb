{
 "cells": [
  {
   "cell_type": "code",
   "execution_count": 1,
   "metadata": {},
   "outputs": [
    {
     "data": {
      "text/plain": [
       "[1, 4, 9, 16, 25]"
      ]
     },
     "execution_count": 1,
     "metadata": {},
     "output_type": "execute_result"
    }
   ],
   "source": [
    "a = [1,2,3,4,5]\n",
    "\n",
    "list(map(lambda x: x**2, a))"
   ]
  },
  {
   "cell_type": "code",
   "execution_count": 5,
   "metadata": {},
   "outputs": [
    {
     "data": {
      "text/plain": [
       "[1, 3, 5]"
      ]
     },
     "execution_count": 5,
     "metadata": {},
     "output_type": "execute_result"
    }
   ],
   "source": [
    "\n",
    "list(filter(lambda x: True if x % 2 != 0 else False, a))"
   ]
  },
  {
   "cell_type": "code",
   "execution_count": 12,
   "metadata": {},
   "outputs": [
    {
     "name": "stdout",
     "output_type": "stream",
     "text": [
      "[{'name': 'Pension Loli', 'hasPool': False, 'stars': 2}]\n",
      "[{'name': 'Ritz', 'hasPool': True, 'stars': 5}, {'name': 'Matadero Suite', 'hasPool': True, 'stars': 3}]\n",
      "[]\n"
     ]
    }
   ],
   "source": [
    "# Filter https://docs.python.org/3/library/functions.html#filter\n",
    "\n",
    "hoteles = [\n",
    "    {\n",
    "        \"name\":\"Ritz\",\n",
    "        \"hasPool\":True,\n",
    "        \"stars\": 5\n",
    "    },\n",
    "    {\n",
    "        \"name\":\"Pension Loli\",\n",
    "        \"hasPool\":False,\n",
    "        \"stars\": 2\n",
    "    },\n",
    "    {\n",
    "        \"name\":\"Matadero Suite\",\n",
    "        \"hasPool\":True,\n",
    "        \"stars\": 3\n",
    "    }\n",
    "]\n",
    "\n",
    "lessThan3Stars = lambda x: x[\"stars\"] < 3\n",
    "hotelsWithPool = lambda x: x[\"hasPool\"]\n",
    "\n",
    "def multifilter(x):\n",
    "    return lessThan3Stars(x) and hotelsWithPool(x)\n",
    "\n",
    "print(list(filter(lessThan3Stars,hoteles)))\n",
    "print(list(filter(hotelsWithPool,hoteles)))\n",
    "print(list(filter(multifilter,hoteles)))\n"
   ]
  },
  {
   "cell_type": "code",
   "execution_count": 33,
   "metadata": {},
   "outputs": [
    {
     "name": "stdout",
     "output_type": "stream",
     "text": [
      "Acumulador: 2, elemento: 3\n",
      "Acumulador: 5, elemento: 4\n",
      "Acumulador: 9, elemento: 5\n",
      "Acumulador: 14, elemento: 6\n",
      "Resultado reduce 20\n"
     ]
    }
   ],
   "source": [
    "# Reduce https://docs.python.org/3/library/functools.html\n",
    "from functools import reduce\n",
    "\n",
    "m = [2,3,4,5,6]\n",
    "\n",
    "def rr(acc, e):\n",
    "    print(\"Acumulador: {}, elemento: {}\".format(acc,e))\n",
    "    return acc+e\n",
    "\n",
    "q = reduce(rr, m)\n",
    "print(\"Resultado reduce\", q)"
   ]
  },
  {
   "cell_type": "code",
   "execution_count": 42,
   "metadata": {},
   "outputs": [
    {
     "data": {
      "text/plain": [
       "'Ritz,Pension Loli,Matadero Suite'"
      ]
     },
     "execution_count": 42,
     "metadata": {},
     "output_type": "execute_result"
    }
   ],
   "source": [
    "reduce(lambda acc,e: acc+e[1][\"name\"]+\",\" if e[0]< len(hoteles)-1\n",
    "       else acc+e[1][\"name\"] , enumerate(hoteles), \"\")"
   ]
  },
  {
   "cell_type": "code",
   "execution_count": null,
   "metadata": {},
   "outputs": [],
   "source": []
  }
 ],
 "metadata": {
  "kernelspec": {
   "display_name": "Python 3",
   "language": "python",
   "name": "python3"
  },
  "language_info": {
   "codemirror_mode": {
    "name": "ipython",
    "version": 3
   },
   "file_extension": ".py",
   "mimetype": "text/x-python",
   "name": "python",
   "nbconvert_exporter": "python",
   "pygments_lexer": "ipython3",
   "version": "3.7.3"
  }
 },
 "nbformat": 4,
 "nbformat_minor": 2
}
