{
 "cells": [
  {
   "cell_type": "code",
   "execution_count": 3,
   "metadata": {},
   "outputs": [],
   "source": [
    "import pandas as pd\n",
    "import numpy as np"
   ]
  },
  {
   "cell_type": "code",
   "execution_count": 5,
   "metadata": {},
   "outputs": [
    {
     "name": "stdout",
     "output_type": "stream",
     "text": [
      "[[0.40391092 0.78806006 0.17446499 0.39234748]\n",
      " [0.90953438 0.30315952 0.37656784 0.40835709]\n",
      " [0.86140945 0.40952889 0.81769165 0.40518512]\n",
      " [0.45134735 0.00140125 0.45673096 0.95113883]\n",
      " [0.36667994 0.57761594 0.39048445 0.77475238]\n",
      " [0.61486036 0.04927868 0.75745351 0.98124269]\n",
      " [0.13030033 0.11107242 0.42752299 0.19022932]\n",
      " [0.35852416 0.52865543 0.89829051 0.06372047]\n",
      " [0.47737295 0.21994456 0.62441232 0.0252532 ]\n",
      " [0.69005779 0.23206245 0.78035091 0.9237278 ]]\n"
     ]
    }
   ],
   "source": [
    "a = np.random.random((10,4))\n",
    "print(a)"
   ]
  },
  {
   "cell_type": "code",
   "execution_count": 11,
   "metadata": {},
   "outputs": [
    {
     "data": {
      "text/html": [
       "<div>\n",
       "<style scoped>\n",
       "    .dataframe tbody tr th:only-of-type {\n",
       "        vertical-align: middle;\n",
       "    }\n",
       "\n",
       "    .dataframe tbody tr th {\n",
       "        vertical-align: top;\n",
       "    }\n",
       "\n",
       "    .dataframe thead th {\n",
       "        text-align: right;\n",
       "    }\n",
       "</style>\n",
       "<table border=\"1\" class=\"dataframe\">\n",
       "  <thead>\n",
       "    <tr style=\"text-align: right;\">\n",
       "      <th></th>\n",
       "      <th>Uno</th>\n",
       "      <th>Dos</th>\n",
       "      <th>Tres</th>\n",
       "      <th>Cuatro</th>\n",
       "    </tr>\n",
       "  </thead>\n",
       "  <tbody>\n",
       "    <tr>\n",
       "      <th>0</th>\n",
       "      <td>0.403911</td>\n",
       "      <td>0.788060</td>\n",
       "      <td>0.174465</td>\n",
       "      <td>0.392347</td>\n",
       "    </tr>\n",
       "    <tr>\n",
       "      <th>1</th>\n",
       "      <td>0.909534</td>\n",
       "      <td>0.303160</td>\n",
       "      <td>0.376568</td>\n",
       "      <td>0.408357</td>\n",
       "    </tr>\n",
       "    <tr>\n",
       "      <th>2</th>\n",
       "      <td>0.861409</td>\n",
       "      <td>0.409529</td>\n",
       "      <td>0.817692</td>\n",
       "      <td>0.405185</td>\n",
       "    </tr>\n",
       "    <tr>\n",
       "      <th>3</th>\n",
       "      <td>0.451347</td>\n",
       "      <td>0.001401</td>\n",
       "      <td>0.456731</td>\n",
       "      <td>0.951139</td>\n",
       "    </tr>\n",
       "    <tr>\n",
       "      <th>4</th>\n",
       "      <td>0.366680</td>\n",
       "      <td>0.577616</td>\n",
       "      <td>0.390484</td>\n",
       "      <td>0.774752</td>\n",
       "    </tr>\n",
       "    <tr>\n",
       "      <th>5</th>\n",
       "      <td>0.614860</td>\n",
       "      <td>0.049279</td>\n",
       "      <td>0.757454</td>\n",
       "      <td>0.981243</td>\n",
       "    </tr>\n",
       "    <tr>\n",
       "      <th>6</th>\n",
       "      <td>0.130300</td>\n",
       "      <td>0.111072</td>\n",
       "      <td>0.427523</td>\n",
       "      <td>0.190229</td>\n",
       "    </tr>\n",
       "    <tr>\n",
       "      <th>7</th>\n",
       "      <td>0.358524</td>\n",
       "      <td>0.528655</td>\n",
       "      <td>0.898291</td>\n",
       "      <td>0.063720</td>\n",
       "    </tr>\n",
       "    <tr>\n",
       "      <th>8</th>\n",
       "      <td>0.477373</td>\n",
       "      <td>0.219945</td>\n",
       "      <td>0.624412</td>\n",
       "      <td>0.025253</td>\n",
       "    </tr>\n",
       "    <tr>\n",
       "      <th>9</th>\n",
       "      <td>0.690058</td>\n",
       "      <td>0.232062</td>\n",
       "      <td>0.780351</td>\n",
       "      <td>0.923728</td>\n",
       "    </tr>\n",
       "  </tbody>\n",
       "</table>\n",
       "</div>"
      ],
      "text/plain": [
       "        Uno       Dos      Tres    Cuatro\n",
       "0  0.403911  0.788060  0.174465  0.392347\n",
       "1  0.909534  0.303160  0.376568  0.408357\n",
       "2  0.861409  0.409529  0.817692  0.405185\n",
       "3  0.451347  0.001401  0.456731  0.951139\n",
       "4  0.366680  0.577616  0.390484  0.774752\n",
       "5  0.614860  0.049279  0.757454  0.981243\n",
       "6  0.130300  0.111072  0.427523  0.190229\n",
       "7  0.358524  0.528655  0.898291  0.063720\n",
       "8  0.477373  0.219945  0.624412  0.025253\n",
       "9  0.690058  0.232062  0.780351  0.923728"
      ]
     },
     "metadata": {},
     "output_type": "display_data"
    }
   ],
   "source": [
    "x = pd.DataFrame(a, columns=[\"Uno\",\"Dos\",\"Tres\",\"Cuatro\"])\n",
    "display(x)"
   ]
  },
  {
   "cell_type": "code",
   "execution_count": 15,
   "metadata": {},
   "outputs": [
    {
     "name": "stdout",
     "output_type": "stream",
     "text": [
      "0    0.174465\n",
      "1    0.376568\n",
      "2    0.817692\n",
      "3    0.456731\n",
      "4    0.390484\n",
      "5    0.757454\n",
      "6    0.427523\n",
      "7    0.898291\n",
      "8    0.624412\n",
      "9    0.780351\n",
      "Name: Tres, dtype: float64\n"
     ]
    },
    {
     "ename": "TypeError",
     "evalue": "type() takes 1 or 3 arguments",
     "output_type": "error",
     "traceback": [
      "\u001b[0;31m---------------------------------------------------------------------------\u001b[0m",
      "\u001b[0;31mTypeError\u001b[0m                                 Traceback (most recent call last)",
      "\u001b[0;32m<ipython-input-15-1023a6ec64c0>\u001b[0m in \u001b[0;36m<module>\u001b[0;34m\u001b[0m\n\u001b[1;32m      1\u001b[0m \u001b[0mprint\u001b[0m\u001b[0;34m(\u001b[0m\u001b[0mx\u001b[0m\u001b[0;34m[\u001b[0m\u001b[0;34m\"Tres\"\u001b[0m\u001b[0;34m]\u001b[0m\u001b[0;34m)\u001b[0m\u001b[0;34m\u001b[0m\u001b[0;34m\u001b[0m\u001b[0m\n\u001b[0;32m----> 2\u001b[0;31m \u001b[0mtype\u001b[0m\u001b[0;34m(\u001b[0m\u001b[0mx\u001b[0m\u001b[0;34m,\u001b[0m\u001b[0mx\u001b[0m\u001b[0;34m[\u001b[0m\u001b[0;34m\"Tres\"\u001b[0m\u001b[0;34m]\u001b[0m\u001b[0;34m)\u001b[0m\u001b[0;34m\u001b[0m\u001b[0;34m\u001b[0m\u001b[0m\n\u001b[0m",
      "\u001b[0;31mTypeError\u001b[0m: type() takes 1 or 3 arguments"
     ]
    }
   ],
   "source": [
    "print(x[\"Tres\"])\n",
    "type(x,x[\"Tres\"])"
   ]
  },
  {
   "cell_type": "code",
   "execution_count": 18,
   "metadata": {},
   "outputs": [
    {
     "data": {
      "text/html": [
       "<div>\n",
       "<style scoped>\n",
       "    .dataframe tbody tr th:only-of-type {\n",
       "        vertical-align: middle;\n",
       "    }\n",
       "\n",
       "    .dataframe tbody tr th {\n",
       "        vertical-align: top;\n",
       "    }\n",
       "\n",
       "    .dataframe thead th {\n",
       "        text-align: right;\n",
       "    }\n",
       "</style>\n",
       "<table border=\"1\" class=\"dataframe\">\n",
       "  <thead>\n",
       "    <tr style=\"text-align: right;\">\n",
       "      <th></th>\n",
       "      <th>Nombre Hotel</th>\n",
       "      <th>Estrellas</th>\n",
       "      <th>Precio</th>\n",
       "    </tr>\n",
       "  </thead>\n",
       "  <tbody>\n",
       "    <tr>\n",
       "      <th>0</th>\n",
       "      <td>Palas</td>\n",
       "      <td>5</td>\n",
       "      <td>800</td>\n",
       "    </tr>\n",
       "    <tr>\n",
       "      <th>1</th>\n",
       "      <td>Ritz</td>\n",
       "      <td>5</td>\n",
       "      <td>900</td>\n",
       "    </tr>\n",
       "    <tr>\n",
       "      <th>2</th>\n",
       "      <td>Sheraton</td>\n",
       "      <td>5</td>\n",
       "      <td>850</td>\n",
       "    </tr>\n",
       "    <tr>\n",
       "      <th>3</th>\n",
       "      <td>Pension Mari</td>\n",
       "      <td>1</td>\n",
       "      <td>30</td>\n",
       "    </tr>\n",
       "  </tbody>\n",
       "</table>\n",
       "</div>"
      ],
      "text/plain": [
       "   Nombre Hotel  Estrellas  Precio\n",
       "0         Palas          5     800\n",
       "1          Ritz          5     900\n",
       "2      Sheraton          5     850\n",
       "3  Pension Mari          1      30"
      ]
     },
     "metadata": {},
     "output_type": "display_data"
    }
   ],
   "source": [
    "hotels = pd.DataFrame({\n",
    "    \"Nombre Hotel\":[\"Palas\",\"Ritz\",\"Sheraton\",\"Pension Mari\"],\n",
    "    \"Estrellas\":[5,5,5,1],\n",
    "    \"Precio\":[800,900,850,30]\n",
    "})\n",
    "display(hotels)"
   ]
  },
  {
   "cell_type": "code",
   "execution_count": 19,
   "metadata": {},
   "outputs": [
    {
     "data": {
      "text/plain": [
       "Nombre Hotel    object\n",
       "Estrellas        int64\n",
       "Precio           int64\n",
       "dtype: object"
      ]
     },
     "execution_count": 19,
     "metadata": {},
     "output_type": "execute_result"
    }
   ],
   "source": [
    "hotels.dtypes"
   ]
  },
  {
   "cell_type": "code",
   "execution_count": 20,
   "metadata": {},
   "outputs": [
    {
     "data": {
      "text/plain": [
       "(4, 3)"
      ]
     },
     "execution_count": 20,
     "metadata": {},
     "output_type": "execute_result"
    }
   ],
   "source": [
    "hotels.shape"
   ]
  },
  {
   "cell_type": "code",
   "execution_count": 25,
   "metadata": {},
   "outputs": [
    {
     "data": {
      "text/html": [
       "<div>\n",
       "<style scoped>\n",
       "    .dataframe tbody tr th:only-of-type {\n",
       "        vertical-align: middle;\n",
       "    }\n",
       "\n",
       "    .dataframe tbody tr th {\n",
       "        vertical-align: top;\n",
       "    }\n",
       "\n",
       "    .dataframe thead th {\n",
       "        text-align: right;\n",
       "    }\n",
       "</style>\n",
       "<table border=\"1\" class=\"dataframe\">\n",
       "  <thead>\n",
       "    <tr style=\"text-align: right;\">\n",
       "      <th></th>\n",
       "      <th>0</th>\n",
       "      <th>1</th>\n",
       "      <th>2</th>\n",
       "      <th>3</th>\n",
       "    </tr>\n",
       "  </thead>\n",
       "  <tbody>\n",
       "    <tr>\n",
       "      <th>Nombre Hotel</th>\n",
       "      <td>Palas</td>\n",
       "      <td>Ritz</td>\n",
       "      <td>Sheraton</td>\n",
       "      <td>Pension Mari</td>\n",
       "    </tr>\n",
       "    <tr>\n",
       "      <th>Estrellas</th>\n",
       "      <td>5</td>\n",
       "      <td>5</td>\n",
       "      <td>5</td>\n",
       "      <td>1</td>\n",
       "    </tr>\n",
       "    <tr>\n",
       "      <th>Precio</th>\n",
       "      <td>800</td>\n",
       "      <td>900</td>\n",
       "      <td>850</td>\n",
       "      <td>30</td>\n",
       "    </tr>\n",
       "    <tr>\n",
       "      <th>Ratio</th>\n",
       "      <td>0.00625</td>\n",
       "      <td>0.00555556</td>\n",
       "      <td>0.00588235</td>\n",
       "      <td>0.0333333</td>\n",
       "    </tr>\n",
       "  </tbody>\n",
       "</table>\n",
       "</div>"
      ],
      "text/plain": [
       "                    0           1           2             3\n",
       "Nombre Hotel    Palas        Ritz    Sheraton  Pension Mari\n",
       "Estrellas           5           5           5             1\n",
       "Precio            800         900         850            30\n",
       "Ratio         0.00625  0.00555556  0.00588235     0.0333333"
      ]
     },
     "metadata": {},
     "output_type": "display_data"
    },
    {
     "data": {
      "text/html": [
       "<div>\n",
       "<style scoped>\n",
       "    .dataframe tbody tr th:only-of-type {\n",
       "        vertical-align: middle;\n",
       "    }\n",
       "\n",
       "    .dataframe tbody tr th {\n",
       "        vertical-align: top;\n",
       "    }\n",
       "\n",
       "    .dataframe thead th {\n",
       "        text-align: right;\n",
       "    }\n",
       "</style>\n",
       "<table border=\"1\" class=\"dataframe\">\n",
       "  <thead>\n",
       "    <tr style=\"text-align: right;\">\n",
       "      <th></th>\n",
       "      <th>Nombre Hotel</th>\n",
       "      <th>Estrellas</th>\n",
       "      <th>Precio</th>\n",
       "      <th>Ratio</th>\n",
       "    </tr>\n",
       "  </thead>\n",
       "  <tbody>\n",
       "    <tr>\n",
       "      <th>0</th>\n",
       "      <td>Palas</td>\n",
       "      <td>5</td>\n",
       "      <td>800</td>\n",
       "      <td>0.006250</td>\n",
       "    </tr>\n",
       "    <tr>\n",
       "      <th>1</th>\n",
       "      <td>Ritz</td>\n",
       "      <td>5</td>\n",
       "      <td>900</td>\n",
       "      <td>0.005556</td>\n",
       "    </tr>\n",
       "    <tr>\n",
       "      <th>2</th>\n",
       "      <td>Sheraton</td>\n",
       "      <td>5</td>\n",
       "      <td>850</td>\n",
       "      <td>0.005882</td>\n",
       "    </tr>\n",
       "    <tr>\n",
       "      <th>3</th>\n",
       "      <td>Pension Mari</td>\n",
       "      <td>1</td>\n",
       "      <td>30</td>\n",
       "      <td>0.033333</td>\n",
       "    </tr>\n",
       "  </tbody>\n",
       "</table>\n",
       "</div>"
      ],
      "text/plain": [
       "   Nombre Hotel  Estrellas  Precio     Ratio\n",
       "0         Palas          5     800  0.006250\n",
       "1          Ritz          5     900  0.005556\n",
       "2      Sheraton          5     850  0.005882\n",
       "3  Pension Mari          1      30  0.033333"
      ]
     },
     "metadata": {},
     "output_type": "display_data"
    }
   ],
   "source": [
    "hotels[\"Ratio\"] = hotels[\"Estrellas\"] / hotels[\"Precio\"]\n",
    "display(hotels.transpose())\n",
    "display(hotels)\n"
   ]
  },
  {
   "cell_type": "code",
   "execution_count": 26,
   "metadata": {},
   "outputs": [
    {
     "data": {
      "text/plain": [
       "Nombre Hotel    PalasRitzSheratonPension Mari\n",
       "Estrellas                                  16\n",
       "Precio                                   2580\n",
       "Ratio                               0.0510212\n",
       "dtype: object"
      ]
     },
     "execution_count": 26,
     "metadata": {},
     "output_type": "execute_result"
    }
   ],
   "source": [
    "hotels.sum()"
   ]
  },
  {
   "cell_type": "code",
   "execution_count": 28,
   "metadata": {},
   "outputs": [
    {
     "name": "stdout",
     "output_type": "stream",
     "text": [
      "2580 900 30 645.0\n"
     ]
    }
   ],
   "source": [
    "print(\n",
    "    hotels[\"Precio\"].sum(),\n",
    "    hotels[\"Precio\"].max(),\n",
    "    hotels[\"Precio\"].min(),\n",
    "    hotels[\"Precio\"].mean()\n",
    ")"
   ]
  },
  {
   "cell_type": "code",
   "execution_count": 31,
   "metadata": {},
   "outputs": [
    {
     "data": {
      "text/html": [
       "<div>\n",
       "<style scoped>\n",
       "    .dataframe tbody tr th:only-of-type {\n",
       "        vertical-align: middle;\n",
       "    }\n",
       "\n",
       "    .dataframe tbody tr th {\n",
       "        vertical-align: top;\n",
       "    }\n",
       "\n",
       "    .dataframe thead th {\n",
       "        text-align: right;\n",
       "    }\n",
       "</style>\n",
       "<table border=\"1\" class=\"dataframe\">\n",
       "  <thead>\n",
       "    <tr style=\"text-align: right;\">\n",
       "      <th></th>\n",
       "      <th>Estrellas</th>\n",
       "      <th>Precio</th>\n",
       "      <th>Ratio</th>\n",
       "    </tr>\n",
       "  </thead>\n",
       "  <tbody>\n",
       "    <tr>\n",
       "      <th>count</th>\n",
       "      <td>4.0</td>\n",
       "      <td>4.000000</td>\n",
       "      <td>4.000000</td>\n",
       "    </tr>\n",
       "    <tr>\n",
       "      <th>mean</th>\n",
       "      <td>4.0</td>\n",
       "      <td>645.000000</td>\n",
       "      <td>0.012755</td>\n",
       "    </tr>\n",
       "    <tr>\n",
       "      <th>std</th>\n",
       "      <td>2.0</td>\n",
       "      <td>412.027507</td>\n",
       "      <td>0.013722</td>\n",
       "    </tr>\n",
       "    <tr>\n",
       "      <th>min</th>\n",
       "      <td>1.0</td>\n",
       "      <td>30.000000</td>\n",
       "      <td>0.005556</td>\n",
       "    </tr>\n",
       "    <tr>\n",
       "      <th>25%</th>\n",
       "      <td>4.0</td>\n",
       "      <td>607.500000</td>\n",
       "      <td>0.005801</td>\n",
       "    </tr>\n",
       "    <tr>\n",
       "      <th>50%</th>\n",
       "      <td>5.0</td>\n",
       "      <td>825.000000</td>\n",
       "      <td>0.006066</td>\n",
       "    </tr>\n",
       "    <tr>\n",
       "      <th>75%</th>\n",
       "      <td>5.0</td>\n",
       "      <td>862.500000</td>\n",
       "      <td>0.013021</td>\n",
       "    </tr>\n",
       "    <tr>\n",
       "      <th>max</th>\n",
       "      <td>5.0</td>\n",
       "      <td>900.000000</td>\n",
       "      <td>0.033333</td>\n",
       "    </tr>\n",
       "  </tbody>\n",
       "</table>\n",
       "</div>"
      ],
      "text/plain": [
       "       Estrellas      Precio     Ratio\n",
       "count        4.0    4.000000  4.000000\n",
       "mean         4.0  645.000000  0.012755\n",
       "std          2.0  412.027507  0.013722\n",
       "min          1.0   30.000000  0.005556\n",
       "25%          4.0  607.500000  0.005801\n",
       "50%          5.0  825.000000  0.006066\n",
       "75%          5.0  862.500000  0.013021\n",
       "max          5.0  900.000000  0.033333"
      ]
     },
     "execution_count": 31,
     "metadata": {},
     "output_type": "execute_result"
    }
   ],
   "source": [
    "hotels.describe()"
   ]
  },
  {
   "cell_type": "code",
   "execution_count": 32,
   "metadata": {},
   "outputs": [
    {
     "data": {
      "text/plain": [
       "Estrellas     1.000000\n",
       "Precio       30.000000\n",
       "Ratio         0.005556\n",
       "Name: min, dtype: float64"
      ]
     },
     "execution_count": 32,
     "metadata": {},
     "output_type": "execute_result"
    }
   ],
   "source": [
    "hotels.describe().transpose()[\"min\"]"
   ]
  },
  {
   "cell_type": "code",
   "execution_count": 42,
   "metadata": {},
   "outputs": [
    {
     "data": {
      "text/html": [
       "<div>\n",
       "<style scoped>\n",
       "    .dataframe tbody tr th:only-of-type {\n",
       "        vertical-align: middle;\n",
       "    }\n",
       "\n",
       "    .dataframe tbody tr th {\n",
       "        vertical-align: top;\n",
       "    }\n",
       "\n",
       "    .dataframe thead th {\n",
       "        text-align: right;\n",
       "    }\n",
       "</style>\n",
       "<table border=\"1\" class=\"dataframe\">\n",
       "  <thead>\n",
       "    <tr style=\"text-align: right;\">\n",
       "      <th></th>\n",
       "      <th>Nombre</th>\n",
       "      <th>Edad</th>\n",
       "    </tr>\n",
       "  </thead>\n",
       "  <tbody>\n",
       "    <tr>\n",
       "      <th>0</th>\n",
       "      <td>Pe,,pe</td>\n",
       "      <td>10</td>\n",
       "    </tr>\n",
       "    <tr>\n",
       "      <th>1</th>\n",
       "      <td>Juan</td>\n",
       "      <td>20</td>\n",
       "    </tr>\n",
       "    <tr>\n",
       "      <th>2</th>\n",
       "      <td>Luis</td>\n",
       "      <td>25</td>\n",
       "    </tr>\n",
       "    <tr>\n",
       "      <th>3</th>\n",
       "      <td>Fran</td>\n",
       "      <td>15xº</td>\n",
       "    </tr>\n",
       "  </tbody>\n",
       "</table>\n",
       "</div>"
      ],
      "text/plain": [
       "   Nombre  Edad\n",
       "0  Pe,,pe    10\n",
       "1    Juan    20\n",
       "2    Luis    25\n",
       "3    Fran  15xº"
      ]
     },
     "execution_count": 42,
     "metadata": {},
     "output_type": "execute_result"
    }
   ],
   "source": [
    "pd.read_csv('./data/alumnos.csv')"
   ]
  },
  {
   "cell_type": "code",
   "execution_count": 48,
   "metadata": {},
   "outputs": [
    {
     "data": {
      "text/html": [
       "<div>\n",
       "<style scoped>\n",
       "    .dataframe tbody tr th:only-of-type {\n",
       "        vertical-align: middle;\n",
       "    }\n",
       "\n",
       "    .dataframe tbody tr th {\n",
       "        vertical-align: top;\n",
       "    }\n",
       "\n",
       "    .dataframe thead th {\n",
       "        text-align: right;\n",
       "    }\n",
       "</style>\n",
       "<table border=\"1\" class=\"dataframe\">\n",
       "  <thead>\n",
       "    <tr style=\"text-align: right;\">\n",
       "      <th></th>\n",
       "      <th>aficiones</th>\n",
       "      <th>edad</th>\n",
       "      <th>nombre</th>\n",
       "    </tr>\n",
       "  </thead>\n",
       "  <tbody>\n",
       "    <tr>\n",
       "      <th>0</th>\n",
       "      <td>[{'name': 'Beisbol', 'level': 2}, {'name': 'Fu...</td>\n",
       "      <td>10</td>\n",
       "      <td>Pepe</td>\n",
       "    </tr>\n",
       "  </tbody>\n",
       "</table>\n",
       "</div>"
      ],
      "text/plain": [
       "                                           aficiones  edad nombre\n",
       "0  [{'name': 'Beisbol', 'level': 2}, {'name': 'Fu...    10   Pepe"
      ]
     },
     "execution_count": 48,
     "metadata": {},
     "output_type": "execute_result"
    }
   ],
   "source": [
    "#https://pandas.pydata.org/pandas-docs/stable/reference/api/pandas.read_json.html\n",
    "pd.read_json('./data/alumnos.json')"
   ]
  },
  {
   "cell_type": "code",
   "execution_count": 51,
   "metadata": {},
   "outputs": [],
   "source": [
    "m = pd.read_csv('./data/alumnos.csv')\n",
    "m.to_json('./data/alumnos_export.json', orient=\"records\")"
   ]
  },
  {
   "cell_type": "code",
   "execution_count": 53,
   "metadata": {},
   "outputs": [],
   "source": [
    "# pip3 install openpyxl\n",
    "m.to_excel('./data/alumnos_export.xlsx')"
   ]
  },
  {
   "cell_type": "code",
   "execution_count": 66,
   "metadata": {},
   "outputs": [
    {
     "name": "stdout",
     "output_type": "stream",
     "text": [
      "{'nombre': 'Pepe', 'apellidos': 'Garcia'}\n",
      "{\"nombre\": \"Pepe\", \"apellidos\": \"Garcia\"}\n",
      "<class 'dict'> <class 'str'>\n",
      "Pepe\n",
      "Pepe\n"
     ]
    }
   ],
   "source": [
    "import json\n",
    "\n",
    "a = {\n",
    "    \"nombre\":\"Pepe\",\n",
    "    \"apellidos\":\"Garcia\"\n",
    "}\n",
    "\n",
    "b = json.dumps(a)\n",
    "print(a)\n",
    "print(b)\n",
    "print(type(a),type(b))\n",
    "print(a[\"nombre\"])\n",
    "#print(b[\"nombre\"]) #  B is a string\n",
    "m = json.loads(b)\n",
    "print(m[\"nombre\"])\n",
    "\n",
    "\n"
   ]
  },
  {
   "cell_type": "code",
   "execution_count": 72,
   "metadata": {},
   "outputs": [
    {
     "data": {
      "text/plain": [
       "{'nombre': 'Pepe', 'apellidos': 'Garcia'}"
      ]
     },
     "execution_count": 72,
     "metadata": {},
     "output_type": "execute_result"
    }
   ],
   "source": [
    "q = \"\"\"\n",
    "{\n",
    "\"nombre\": \"Pepe\",\n",
    "\"apellidos\": \"Garcia\"\n",
    "}\n",
    "\"\"\"\n",
    "\n",
    "json.loads(q)"
   ]
  },
  {
   "cell_type": "code",
   "execution_count": 77,
   "metadata": {},
   "outputs": [
    {
     "name": "stdout",
     "output_type": "stream",
     "text": [
      "{'marca': 'Casio'}\n",
      "{\"marca\": \"Casio\"}\n"
     ]
    }
   ],
   "source": [
    "class Mando:\n",
    "    def __init__(self,marca=\"Casio\"):\n",
    "        self.marca=marca\n",
    "    def cambiaMarca(self,marca):\n",
    "        self.marca=\"Nuevamarca:\"+marca\n",
    "\n",
    "m = Mando()\n",
    "print(m.__dict__)\n",
    "print(json.dumps(m.__dict__))\n"
   ]
  },
  {
   "cell_type": "code",
   "execution_count": null,
   "metadata": {},
   "outputs": [],
   "source": []
  }
 ],
 "metadata": {
  "kernelspec": {
   "display_name": "Python 3",
   "language": "python",
   "name": "python3"
  },
  "language_info": {
   "codemirror_mode": {
    "name": "ipython",
    "version": 3
   },
   "file_extension": ".py",
   "mimetype": "text/x-python",
   "name": "python",
   "nbconvert_exporter": "python",
   "pygments_lexer": "ipython3",
   "version": "3.7.3"
  }
 },
 "nbformat": 4,
 "nbformat_minor": 2
}
