{
 "cells": [
  {
   "cell_type": "code",
   "execution_count": 23,
   "metadata": {},
   "outputs": [],
   "source": [
    "import numpy as np"
   ]
  },
  {
   "cell_type": "code",
   "execution_count": 35,
   "metadata": {},
   "outputs": [
    {
     "name": "stdout",
     "output_type": "stream",
     "text": [
      "[[4, 10, 18], [4, 10, 18], [4, 10, 18]]\n"
     ]
    }
   ],
   "source": [
    "a = [[1,2,3],[1,2,3],[1,2,3]]\n",
    "b = [[4,5,6],[4,5,6],[4,5,6]]\n",
    "\n",
    "c = []\n",
    "\n",
    "for i in range(len(a)):\n",
    "    x = []\n",
    "    for j in range(len(a[i])):\n",
    "        x.append(a[i][j]*b[i][j])\n",
    "    c.append(x)\n",
    "print(c)"
   ]
  },
  {
   "cell_type": "code",
   "execution_count": 36,
   "metadata": {},
   "outputs": [
    {
     "data": {
      "text/plain": [
       "[([1, 2, 3], [4, 5, 6]), ([1, 2, 3], [4, 5, 6]), ([1, 2, 3], [4, 5, 6])]"
      ]
     },
     "execution_count": 36,
     "metadata": {},
     "output_type": "execute_result"
    }
   ],
   "source": [
    "list(zip(a,b))"
   ]
  },
  {
   "cell_type": "code",
   "execution_count": 37,
   "metadata": {},
   "outputs": [
    {
     "data": {
      "text/plain": [
       "[[4, 10, 18], [4, 10, 18], [4, 10, 18]]"
      ]
     },
     "execution_count": 37,
     "metadata": {},
     "output_type": "execute_result"
    }
   ],
   "source": [
    "[[q[0]*q[1] for q in zip(e[0],e[1])] for e in zip(a,b) ]"
   ]
  },
  {
   "cell_type": "code",
   "execution_count": 38,
   "metadata": {},
   "outputs": [
    {
     "name": "stdout",
     "output_type": "stream",
     "text": [
      "<class 'list'> <class 'numpy.ndarray'>\n"
     ]
    }
   ],
   "source": [
    "x = np.array(a)\n",
    "y = np.array(b)\n",
    "print(type(a), type(x))"
   ]
  },
  {
   "cell_type": "code",
   "execution_count": 39,
   "metadata": {},
   "outputs": [
    {
     "name": "stdout",
     "output_type": "stream",
     "text": [
      "(3, 3) int64\n"
     ]
    }
   ],
   "source": [
    "print(x.shape, x.dtype)"
   ]
  },
  {
   "cell_type": "code",
   "execution_count": 42,
   "metadata": {},
   "outputs": [
    {
     "data": {
      "text/plain": [
       "(1, 1, 3)"
      ]
     },
     "execution_count": 42,
     "metadata": {},
     "output_type": "execute_result"
    }
   ],
   "source": [
    "np.array([[[1,2,3]]]).shape"
   ]
  },
  {
   "cell_type": "code",
   "execution_count": 43,
   "metadata": {},
   "outputs": [
    {
     "data": {
      "text/plain": [
       "array([[ 4, 10, 18],\n",
       "       [ 4, 10, 18],\n",
       "       [ 4, 10, 18]])"
      ]
     },
     "execution_count": 43,
     "metadata": {},
     "output_type": "execute_result"
    }
   ],
   "source": [
    "# https://www.numpy.org/\n",
    "x * y"
   ]
  },
  {
   "cell_type": "code",
   "execution_count": 45,
   "metadata": {},
   "outputs": [
    {
     "data": {
      "text/plain": [
       "array([[5, 7, 9],\n",
       "       [5, 7, 9],\n",
       "       [5, 7, 9]])"
      ]
     },
     "execution_count": 45,
     "metadata": {},
     "output_type": "execute_result"
    }
   ],
   "source": [
    "x + y"
   ]
  },
  {
   "cell_type": "code",
   "execution_count": 52,
   "metadata": {},
   "outputs": [
    {
     "data": {
      "text/plain": [
       "array([10, 10, 10])"
      ]
     },
     "execution_count": 52,
     "metadata": {},
     "output_type": "execute_result"
    }
   ],
   "source": [
    "(x*y)[:,1]"
   ]
  },
  {
   "cell_type": "code",
   "execution_count": 63,
   "metadata": {},
   "outputs": [
    {
     "name": "stdout",
     "output_type": "stream",
     "text": [
      "[[1 2 3]\n",
      " [1 2 3]\n",
      " [1 2 3]]\n",
      "[6 6 6]\n",
      "[3 6 9]\n"
     ]
    }
   ],
   "source": [
    "print(x)\n",
    "print(np.sum(x, axis=1))\n",
    "print(np.sum(x, axis=0))\n"
   ]
  },
  {
   "cell_type": "code",
   "execution_count": 65,
   "metadata": {},
   "outputs": [
    {
     "name": "stdout",
     "output_type": "stream",
     "text": [
      "[[5 7 9]\n",
      " [5 7 9]\n",
      " [5 7 9]]\n",
      "[[5 7 9]\n",
      " [5 7 9]\n",
      " [5 7 9]]\n"
     ]
    }
   ],
   "source": [
    "print(np.add(x,y)) \n",
    "print(x + y)"
   ]
  },
  {
   "cell_type": "code",
   "execution_count": 72,
   "metadata": {},
   "outputs": [
    {
     "name": "stdout",
     "output_type": "stream",
     "text": [
      "[[1. 1. 1. 1. 1.]\n",
      " [1. 1. 1. 1. 1.]\n",
      " [1. 1. 1. 1. 1.]\n",
      " [1. 1. 1. 1. 1.]\n",
      " [1. 1. 1. 1. 1.]\n",
      " [1. 1. 1. 1. 1.]\n",
      " [1. 1. 1. 1. 1.]\n",
      " [1. 1. 1. 1. 1.]\n",
      " [1. 1. 1. 1. 1.]\n",
      " [1. 1. 1. 1. 1.]]\n",
      "[[0. 0. 0. 0. 0.]\n",
      " [0. 0. 0. 0. 0.]\n",
      " [0. 0. 0. 0. 0.]\n",
      " [0. 0. 0. 0. 0.]\n",
      " [0. 0. 0. 0. 0.]\n",
      " [0. 0. 0. 0. 0.]\n",
      " [0. 0. 0. 0. 0.]\n",
      " [0. 0. 0. 0. 0.]\n",
      " [0. 0. 0. 0. 0.]\n",
      " [0. 0. 0. 0. 0.]]\n",
      "float64\n"
     ]
    }
   ],
   "source": [
    "print(np.ones((10,5)))\n",
    "print(np.zeros((10,5)))\n",
    "print(np.ones((10,5)).dtype)"
   ]
  },
  {
   "cell_type": "code",
   "execution_count": 75,
   "metadata": {},
   "outputs": [
    {
     "data": {
      "text/plain": [
       "array([[[[[[0.16199544, 0.40879894],\n",
       "           [0.61708812, 0.43500552]],\n",
       "\n",
       "          [[0.16649164, 0.99257456],\n",
       "           [0.04905079, 0.33675552]]],\n",
       "\n",
       "\n",
       "         [[[0.04160319, 0.15591006],\n",
       "           [0.74815029, 0.27696947]],\n",
       "\n",
       "          [[0.20120938, 0.95166286],\n",
       "           [0.38106619, 0.6298887 ]]]],\n",
       "\n",
       "\n",
       "\n",
       "        [[[[0.58104287, 0.1892685 ],\n",
       "           [0.31704928, 0.64989372]],\n",
       "\n",
       "          [[0.20040869, 0.94886523],\n",
       "           [0.34131616, 0.38977157]]],\n",
       "\n",
       "\n",
       "         [[[0.69850309, 0.13658444],\n",
       "           [0.04433546, 0.85720762]],\n",
       "\n",
       "          [[0.50269936, 0.3335567 ],\n",
       "           [0.81618116, 0.10755243]]]]],\n",
       "\n",
       "\n",
       "\n",
       "\n",
       "       [[[[[0.73157918, 0.32753776],\n",
       "           [0.68108022, 0.89688349]],\n",
       "\n",
       "          [[0.44502378, 0.72787237],\n",
       "           [0.54924351, 0.16899473]]],\n",
       "\n",
       "\n",
       "         [[[0.69987469, 0.11348275],\n",
       "           [0.88563113, 0.98040468]],\n",
       "\n",
       "          [[0.12625651, 0.52844659],\n",
       "           [0.88565635, 0.03051228]]]],\n",
       "\n",
       "\n",
       "\n",
       "        [[[[0.25938183, 0.15400673],\n",
       "           [0.99184057, 0.1271997 ]],\n",
       "\n",
       "          [[0.81353583, 0.90605986],\n",
       "           [0.68802993, 0.54177357]]],\n",
       "\n",
       "\n",
       "         [[[0.64716668, 0.63233943],\n",
       "           [0.281473  , 0.72643919]],\n",
       "\n",
       "          [[0.96750318, 0.95910529],\n",
       "           [0.25376787, 0.87053355]]]]]])"
      ]
     },
     "execution_count": 75,
     "metadata": {},
     "output_type": "execute_result"
    }
   ],
   "source": [
    "np.random.random((2,2,2,2,2,2))"
   ]
  },
  {
   "cell_type": "code",
   "execution_count": 81,
   "metadata": {},
   "outputs": [
    {
     "name": "stdout",
     "output_type": "stream",
     "text": [
      "[[0.64940225 0.18150265 0.27293362]\n",
      " [0.89945864 0.44539945 0.79121472]\n",
      " [0.89462116 0.56725666 0.93434329]]\n"
     ]
    }
   ],
   "source": [
    "v = np.random.random((3,3))\n",
    "print(v)"
   ]
  },
  {
   "cell_type": "code",
   "execution_count": 87,
   "metadata": {},
   "outputs": [
    {
     "name": "stdout",
     "output_type": "stream",
     "text": [
      "[5, 5]\n"
     ]
    }
   ],
   "source": [
    "s = [e+2 for e in v.shape]\n",
    "print(s)\n",
    "w = np.ones(s)"
   ]
  },
  {
   "cell_type": "code",
   "execution_count": 90,
   "metadata": {},
   "outputs": [
    {
     "name": "stdout",
     "output_type": "stream",
     "text": [
      "[[1.         1.         1.         1.         1.        ]\n",
      " [1.         0.64940225 0.18150265 0.27293362 1.        ]\n",
      " [1.         0.89945864 0.44539945 0.79121472 1.        ]\n",
      " [1.         0.89462116 0.56725666 0.93434329 1.        ]\n",
      " [1.         1.         1.         1.         1.        ]]\n"
     ]
    }
   ],
   "source": [
    "w[1:4,1:4] = v\n",
    "print(w)"
   ]
  },
  {
   "cell_type": "code",
   "execution_count": 101,
   "metadata": {},
   "outputs": [
    {
     "data": {
      "text/plain": [
       "array([[1.        , 1.        , 1.        , 1.        , 1.        ],\n",
       "       [1.        , 1.        , 1.        , 1.        , 1.        ],\n",
       "       [1.        , 1.        , 0.62673365, 1.        , 1.        ],\n",
       "       [1.        , 1.        , 1.        , 1.        , 1.        ],\n",
       "       [1.        , 1.        , 1.        , 1.        , 1.        ]])"
      ]
     },
     "execution_count": 101,
     "metadata": {},
     "output_type": "execute_result"
    }
   ],
   "source": [
    "def withMarco(a, marco=1, ones=True):\n",
    "    s = [e+marco*2 for e in a.shape]\n",
    "    w = np.ones(s) if ones else np.zeros(s)\n",
    "    w[marco:len(a)+marco,marco:len(a)+marco] = a\n",
    "    return w\n",
    "\n",
    "\n",
    "withMarco(np.random.random((1,1)), marco=2)\n",
    "    "
   ]
  },
  {
   "cell_type": "code",
   "execution_count": null,
   "metadata": {},
   "outputs": [],
   "source": []
  }
 ],
 "metadata": {
  "kernelspec": {
   "display_name": "Python 3",
   "language": "python",
   "name": "python3"
  },
  "language_info": {
   "codemirror_mode": {
    "name": "ipython",
    "version": 3
   },
   "file_extension": ".py",
   "mimetype": "text/x-python",
   "name": "python",
   "nbconvert_exporter": "python",
   "pygments_lexer": "ipython3",
   "version": "3.7.3"
  }
 },
 "nbformat": 4,
 "nbformat_minor": 2
}
