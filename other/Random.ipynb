{
 "cells": [
  {
   "cell_type": "code",
   "execution_count": 18,
   "metadata": {},
   "outputs": [],
   "source": [
    "alumnos = [\n",
    "    \"*Luis Garcia-Cobaleda\",\n",
    "    \"Delia Clar Ramirez\",\n",
    "    \"*Pelayo Alvarez-Valdes\",\n",
    "    \"*Paco Anes\",\n",
    "    \"Alejandra Aranzadi\",\n",
    "    \"Marta Gracia Verdura\",\n",
    "    \"Francisco Rafael Serrano del Rey\",\n",
    "    \"*Maximiliano Sánchez\",\n",
    "    \"*Emma Machado Colloto\",\n",
    "    \"Alfonso Román Bonachera\",\n",
    "    \"*CLARA FERNANDEZ\",\n",
    "    \"Noelia Carrión Siles\",\n",
    "    \"Leticia Izquierdo\",\n",
    "    \"Marco José Rueda Águila\",\n",
    "    \"Jacobo Espinosa de los Monteros Pérez\",\n",
    "    \"Alejandro Iborra\",\n",
    "    \"Alfonso Alvarez Miranda\",\n",
    "    \"Rostyslav Koryaha\",\n",
    "    \"*Javier Molins\",\n",
    "    \"*Javier Diaz\"\n",
    "]"
   ]
  },
  {
   "cell_type": "code",
   "execution_count": 19,
   "metadata": {},
   "outputs": [
    {
     "name": "stdout",
     "output_type": "stream",
     "text": [
      "['Delia Clar Ramirez', 'Alejandra Aranzadi', 'Marta Gracia Verdura', 'Francisco Rafael Serrano del Rey', 'Alfonso Román Bonachera', 'Noelia Carrión Siles', 'Leticia Izquierdo', 'Marco José Rueda Águila', 'Jacobo Espinosa de los Monteros Pérez', 'Alejandro Iborra', 'Alfonso Alvarez Miranda', 'Rostyslav Koryaha']\n"
     ]
    },
    {
     "data": {
      "text/plain": [
       "['Delia Clar Ramirez', 'Francisco Rafael Serrano del Rey']"
      ]
     },
     "execution_count": 19,
     "metadata": {},
     "output_type": "execute_result"
    }
   ],
   "source": [
    "from random import sample\n",
    "\n",
    "filtered = list(filter(lambda x: x[0]!='*', alumnos))\n",
    "print(filtered)\n",
    "\n",
    "sample(filtered,2)"
   ]
  },
  {
   "cell_type": "code",
   "execution_count": null,
   "metadata": {},
   "outputs": [],
   "source": []
  },
  {
   "cell_type": "code",
   "execution_count": null,
   "metadata": {},
   "outputs": [],
   "source": []
  }
 ],
 "metadata": {
  "kernelspec": {
   "display_name": "Python 3",
   "language": "python",
   "name": "python3"
  },
  "language_info": {
   "codemirror_mode": {
    "name": "ipython",
    "version": 3
   },
   "file_extension": ".py",
   "mimetype": "text/x-python",
   "name": "python",
   "nbconvert_exporter": "python",
   "pygments_lexer": "ipython3",
   "version": "3.7.3"
  }
 },
 "nbformat": 4,
 "nbformat_minor": 2
}
