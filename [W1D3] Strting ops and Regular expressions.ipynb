{
 "cells": [
  {
   "cell_type": "markdown",
   "metadata": {},
   "source": [
    "# String operations"
   ]
  },
  {
   "cell_type": "code",
   "execution_count": 38,
   "metadata": {},
   "outputs": [
    {
     "data": {
      "text/plain": [
       "'Hola🔥ME🔥llamo🔥pepe'"
      ]
     },
     "execution_count": 38,
     "metadata": {},
     "output_type": "execute_result"
    }
   ],
   "source": [
    "\n",
    "lst = [\"Hola\",\"ME\",\"llamo\",\"pepe\"]\n",
    "\n",
    "'🔥'.join(lst)"
   ]
  },
  {
   "cell_type": "code",
   "execution_count": 39,
   "metadata": {},
   "outputs": [
    {
     "data": {
      "text/plain": [
       "'0🔥1🔥2🔥3🔥4🔥5🔥6🔥7🔥8🔥9'"
      ]
     },
     "execution_count": 39,
     "metadata": {},
     "output_type": "execute_result"
    }
   ],
   "source": [
    "def generatorFn():\n",
    "    for i in range(10):\n",
    "        yield i\n",
    "'🔥'.join([str(i) for i in generatorFn()])"
   ]
  },
  {
   "cell_type": "code",
   "execution_count": 41,
   "metadata": {},
   "outputs": [
    {
     "data": {
      "text/plain": [
       "['Hola', 'ME', 'llamo', 'pepe']"
      ]
     },
     "execution_count": 41,
     "metadata": {},
     "output_type": "execute_result"
    }
   ],
   "source": [
    "texto ='Hola🔥ME🔥llamo🔥pepe'\n",
    "texto.split('🔥')"
   ]
  },
  {
   "cell_type": "code",
   "execution_count": 47,
   "metadata": {},
   "outputs": [
    {
     "data": {
      "text/plain": [
       "['H',\n",
       " 'o',\n",
       " 'l',\n",
       " 'a',\n",
       " '🔥',\n",
       " 'M',\n",
       " 'E',\n",
       " '🔥',\n",
       " 'l',\n",
       " 'l',\n",
       " 'a',\n",
       " 'm',\n",
       " 'o',\n",
       " '🔥',\n",
       " 'p',\n",
       " 'e',\n",
       " 'p',\n",
       " 'e']"
      ]
     },
     "execution_count": 47,
     "metadata": {},
     "output_type": "execute_result"
    }
   ],
   "source": [
    "texto ='Hola🔥ME🔥llamo🔥pepe'\n",
    "list(texto)"
   ]
  },
  {
   "cell_type": "code",
   "execution_count": 53,
   "metadata": {},
   "outputs": [
    {
     "name": "stdout",
     "output_type": "stream",
     "text": [
      "Mal\n"
     ]
    }
   ],
   "source": [
    "texto ='hola🔥ME🔥llamo🔥pepe'\n",
    "if texto.startswith(\"Hol\"):\n",
    "    print(\"empieza bien\")\n",
    "else: \n",
    "    print(\"Mal\")"
   ]
  },
  {
   "cell_type": "code",
   "execution_count": 58,
   "metadata": {},
   "outputs": [
    {
     "data": {
      "text/plain": [
       "'Hola🔥me🔥llamo🔥pepe'"
      ]
     },
     "execution_count": 58,
     "metadata": {},
     "output_type": "execute_result"
    }
   ],
   "source": [
    "texto ='hola🔥ME🔥llamo🔥pepe'\n",
    "texto.capitalize()"
   ]
  },
  {
   "cell_type": "code",
   "execution_count": 68,
   "metadata": {},
   "outputs": [
    {
     "data": {
      "text/plain": [
       "'Hola🔥Me🔥Llamo🔥Pepe'"
      ]
     },
     "execution_count": 68,
     "metadata": {},
     "output_type": "execute_result"
    }
   ],
   "source": [
    "texto ='hola🔥ME🔥llamo🔥pepe'\n",
    "lst = []\n",
    "for e in texto.split(\"🔥\"):\n",
    "    lst.append(e.capitalize())\n",
    "\"🔥\".join(lst)"
   ]
  },
  {
   "cell_type": "code",
   "execution_count": 69,
   "metadata": {},
   "outputs": [
    {
     "data": {
      "text/plain": [
       "'Hola🔥Me🔥Llamo🔥Pepe'"
      ]
     },
     "execution_count": 69,
     "metadata": {},
     "output_type": "execute_result"
    }
   ],
   "source": [
    "texto ='hola🔥ME🔥llamo🔥pepe'\n",
    "\"🔥\".join([e.capitalize() for e in texto.split(\"🔥\")])\n"
   ]
  },
  {
   "cell_type": "code",
   "execution_count": 73,
   "metadata": {},
   "outputs": [
    {
     "name": "stdout",
     "output_type": "stream",
     "text": [
      "False\n"
     ]
    }
   ],
   "source": [
    "texto = 'Hola🔥Me🔥Llamo🔥Pepe'\n",
    "\n",
    "print('🔥q' in texto)\n"
   ]
  },
  {
   "cell_type": "code",
   "execution_count": 74,
   "metadata": {},
   "outputs": [
    {
     "data": {
      "text/plain": [
       "'Hola🔥Me🔥Llamo🔥Pepe'"
      ]
     },
     "execution_count": 74,
     "metadata": {},
     "output_type": "execute_result"
    }
   ],
   "source": [
    "'hola🔥ME🔥llamo🔥pepe'.title()"
   ]
  },
  {
   "cell_type": "code",
   "execution_count": 81,
   "metadata": {},
   "outputs": [
    {
     "name": "stdout",
     "output_type": "stream",
     "text": [
      "-I have a tendency \n",
      "to leave trailing \n",
      "spaces.-\n",
      "-I have a tendency \n",
      "to leave trailing \n",
      "spaces.       -\n",
      "-     I have a tendency \n",
      "to leave trailing \n",
      "spaces.-\n"
     ]
    }
   ],
   "source": [
    "d = \"\"\"     I have a tendency \n",
    "to leave trailing \n",
    "spaces.       \"\"\"\n",
    "\n",
    "print(\"-\"+d.strip()+\"-\")\n",
    "print(\"-\"+d.lstrip()+\"-\")\n",
    "print(\"-\"+d.rstrip()+\"-\")\n"
   ]
  },
  {
   "cell_type": "code",
   "execution_count": 89,
   "metadata": {},
   "outputs": [
    {
     "data": {
      "text/plain": [
       "'     I pero a tendency \\nto leave trailing \\nspaces.       '"
      ]
     },
     "execution_count": 89,
     "metadata": {},
     "output_type": "execute_result"
    }
   ],
   "source": [
    "d = \"\"\"     I have a tendency \n",
    "to leave trailing \n",
    "spaces.       \"\"\"\n",
    "\n",
    "d.replace(\"have\",\"pero\")"
   ]
  },
  {
   "cell_type": "code",
   "execution_count": 91,
   "metadata": {},
   "outputs": [
    {
     "data": {
      "text/plain": [
       "'I have a tendency to leave trailing spaces.'"
      ]
     },
     "execution_count": 91,
     "metadata": {},
     "output_type": "execute_result"
    }
   ],
   "source": [
    "d = \"\"\"     I have a tendency \n",
    "to leave trailing \n",
    "spaces.       \"\"\"\n",
    "\n",
    "d.replace(\"\\n\",\"\").strip()"
   ]
  },
  {
   "cell_type": "code",
   "execution_count": 108,
   "metadata": {},
   "outputs": [
    {
     "name": "stdout",
     "output_type": "stream",
     "text": [
      "['', '', '', '', '', 'I', 'have', '', '', '', '', '', 'a', 'tendency', 'to', 'leave', '', '', '', 'trailing', '', '', 'spaces.', '', '', '', '', '', '', '']\n"
     ]
    },
    {
     "data": {
      "text/plain": [
       "'I have a tendency to leave trailing spaces.'"
      ]
     },
     "execution_count": 108,
     "metadata": {},
     "output_type": "execute_result"
    }
   ],
   "source": [
    "d = \"\"\"     I have      a tendency \n",
    "to leave    trailing \n",
    "  spaces.       \"\"\"\n",
    "\n",
    "print(d.replace(\"\\n\",\"\").split(' '))\n",
    "' '.join([e for e in d.replace(\"\\n\",\"\").split(' ') if e != ''])"
   ]
  },
  {
   "cell_type": "code",
   "execution_count": 88,
   "metadata": {},
   "outputs": [
    {
     "name": "stdout",
     "output_type": "stream",
     "text": [
      "Hola \tme llamo \n",
      " pepe\n"
     ]
    }
   ],
   "source": [
    "texto = \"Hola \\tme llamo \\n pepe\"\n",
    "print(texto)"
   ]
  },
  {
   "cell_type": "markdown",
   "metadata": {},
   "source": [
    "# Regular Expressions\n",
    "* **search**: Returns the first instance of an expression in a string.\n",
    "* **findall**: Finds all instances of an expression in a string and returns them as a list.\n",
    "* **split**: Splits a string based on a specified delimiter.\n",
    "* **sub**: Substitutes a string/substring with another.\n"
   ]
  },
  {
   "cell_type": "code",
   "execution_count": 134,
   "metadata": {},
   "outputs": [
    {
     "data": {
      "text/plain": [
       "['neigh', 'neigh']"
      ]
     },
     "execution_count": 134,
     "metadata": {},
     "output_type": "execute_result"
    }
   ],
   "source": [
    "import re\n",
    "text = 'My neighbor, Mr. @ 😎 Rogeneighrs, has 5 55 dogs.'\n",
    "re.findall('neigh', text)"
   ]
  },
  {
   "cell_type": "code",
   "execution_count": 135,
   "metadata": {},
   "outputs": [
    {
     "data": {
      "text/plain": [
       "30"
      ]
     },
     "execution_count": 135,
     "metadata": {},
     "output_type": "execute_result"
    }
   ],
   "source": [
    "# Number of letters in `text`\n",
    "len(''.join(re.findall('[a-zA-Z]', text)))"
   ]
  },
  {
   "cell_type": "code",
   "execution_count": 136,
   "metadata": {},
   "outputs": [
    {
     "data": {
      "text/plain": [
       "[' ',\n",
       " ',',\n",
       " ' ',\n",
       " '.',\n",
       " ' ',\n",
       " '@',\n",
       " ' ',\n",
       " '😎',\n",
       " ' ',\n",
       " ',',\n",
       " ' ',\n",
       " ' ',\n",
       " '5',\n",
       " ' ',\n",
       " '5',\n",
       " '5',\n",
       " ' ',\n",
       " '.']"
      ]
     },
     "execution_count": 136,
     "metadata": {},
     "output_type": "execute_result"
    }
   ],
   "source": [
    "re.findall('[^a-zA-Z]', text)"
   ]
  },
  {
   "cell_type": "code",
   "execution_count": 137,
   "metadata": {},
   "outputs": [
    {
     "data": {
      "text/plain": [
       "['5', '5', '5']"
      ]
     },
     "execution_count": 137,
     "metadata": {},
     "output_type": "execute_result"
    }
   ],
   "source": [
    "re.findall('[\\d]', text)"
   ]
  },
  {
   "cell_type": "code",
   "execution_count": 145,
   "metadata": {},
   "outputs": [
    {
     "data": {
      "text/plain": [
       "['5', '55']"
      ]
     },
     "execution_count": 145,
     "metadata": {},
     "output_type": "execute_result"
    }
   ],
   "source": [
    "text = 'My neighbor, Mr. @ 😎 Rogeneighrs, has 5 55a dogs.'\n",
    "re.findall('\\d+', text)"
   ]
  },
  {
   "cell_type": "code",
   "execution_count": 149,
   "metadata": {},
   "outputs": [
    {
     "data": {
      "text/plain": [
       "['902+123+123']"
      ]
     },
     "execution_count": 149,
     "metadata": {},
     "output_type": "execute_result"
    }
   ],
   "source": [
    "esperanza_gracia = \"Llama al 902+123+123 y te digo tu futuro\"\n",
    "re.findall('\\d+\\+\\d+\\+\\d+', esperanza_gracia)"
   ]
  },
  {
   "cell_type": "code",
   "execution_count": 167,
   "metadata": {},
   "outputs": [
    {
     "name": "stdout",
     "output_type": "stream",
     "text": [
      "['66', '618', '292', '66', '618', '2925']\n",
      "66618292666182925\n"
     ]
    },
    {
     "data": {
      "text/plain": [
       "['6661829266']"
      ]
     },
     "execution_count": 167,
     "metadata": {},
     "output_type": "execute_result"
    }
   ],
   "source": [
    "esperanza_gracia = \"Llama al 66-618 292  66-618 2925 y te digo tu futuro\"\n",
    "a = re.findall('\\d+', esperanza_gracia)\n",
    "print(a)\n",
    "q = ''.join(a)\n",
    "print(q)\n",
    "re.findall('6[0-9]{9}', q)"
   ]
  },
  {
   "cell_type": "code",
   "execution_count": 176,
   "metadata": {},
   "outputs": [
    {
     "data": {
      "text/plain": [
       "[]"
      ]
     },
     "execution_count": 176,
     "metadata": {},
     "output_type": "execute_result"
    }
   ],
   "source": [
    "esperanza_gracia = \"Llama al 902123123 y te digo tu futuro\"\n",
    "re.findall('\\d{10}', esperanza_gracia)"
   ]
  },
  {
   "cell_type": "code",
   "execution_count": 178,
   "metadata": {},
   "outputs": [
    {
     "data": {
      "text/plain": [
       "['neighbor', 'Mr.', 'Mr.']"
      ]
     },
     "execution_count": 178,
     "metadata": {},
     "output_type": "execute_result"
    }
   ],
   "source": [
    "text = 'My neighbor, Mr. @ 😎 Rogeneighrs, Mr. has 5 55a dogs.'\n",
    "re.findall('(neighbor|Mr\\.)', text)\n"
   ]
  },
  {
   "cell_type": "code",
   "execution_count": 198,
   "metadata": {},
   "outputs": [
    {
     "name": "stdout",
     "output_type": "stream",
     "text": [
      "I have a tendency.\n",
      "To leave trailing.\n",
      "Spaces.\n"
     ]
    }
   ],
   "source": [
    "d = \"\"\"     I have a tendency.\n",
    "to    leave    trailing \n",
    "spaces.       \"\"\"\n",
    "\n",
    "m = [e.capitalize().strip() for e in (re.sub(' +',\" \",d.strip())).split('\\n')]\n",
    "r = []\n",
    "#for e in m:\n",
    "#    if not e.endswith('.'):\n",
    "#        r.append(e+\".\")\n",
    "#    else:\n",
    "#        r.append(e)\n",
    "        \n",
    "print('\\n'.join(r))\n",
    "\n",
    "#I have a tendency.\n",
    "#To leave trailing.\n",
    "#Spaces.\n",
    "\n"
   ]
  },
  {
   "cell_type": "code",
   "execution_count": null,
   "metadata": {},
   "outputs": [],
   "source": []
  }
 ],
 "metadata": {
  "kernelspec": {
   "display_name": "Python 3",
   "language": "python",
   "name": "python3"
  },
  "language_info": {
   "codemirror_mode": {
    "name": "ipython",
    "version": 3
   },
   "file_extension": ".py",
   "mimetype": "text/x-python",
   "name": "python",
   "nbconvert_exporter": "python",
   "pygments_lexer": "ipython3",
   "version": "3.7.3"
  }
 },
 "nbformat": 4,
 "nbformat_minor": 2
}
