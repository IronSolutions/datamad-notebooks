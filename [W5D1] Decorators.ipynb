{
 "cells": [
  {
   "cell_type": "code",
   "execution_count": 21,
   "metadata": {},
   "outputs": [
    {
     "name": "stdout",
     "output_type": "stream",
     "text": [
      "Adios\n"
     ]
    },
    {
     "data": {
      "text/plain": [
       "{'type': 'Point', 'coordinates': [4.5, 2.3]}"
      ]
     },
     "execution_count": 21,
     "metadata": {},
     "output_type": "execute_result"
    }
   ],
   "source": [
    "# https://www.datacamp.com/community/tutorials/decorators-python\n",
    "\n",
    "\n",
    "def asGeoJSON(fn):\n",
    "    def wrap():\n",
    "        t = fn()\n",
    "        return {\n",
    "            \"type\":\"Point\",\n",
    "            \"coordinates\":[t[0],t[1]]\n",
    "        } \n",
    "    return wrap\n",
    "\n",
    "\n",
    "@asGeoJSON\n",
    "def geoCodeApi():\n",
    "    '''\n",
    "    consulta API y convierte un string en lat lng\n",
    "    '''\n",
    "    lat = 4.5\n",
    "    lng = 2.3\n",
    "    print(\"Adios\")\n",
    "    return (lat, lng)\n",
    "\n",
    "\n",
    "geoCodeApi()\n"
   ]
  },
  {
   "cell_type": "code",
   "execution_count": 32,
   "metadata": {},
   "outputs": [
    {
     "name": "stdout",
     "output_type": "stream",
     "text": [
      "--- ARGS: (5, 10)\n",
      "--- KWARGS: {}\n",
      "--- RETURN: 15\n",
      "--- ARGS: ('luis',)\n",
      "--- KWARGS: {}\n",
      "--- RETURN: ['luis', 'luis', 'luis', 'luis', 'luis', 'luis', 'luis', 'luis', 'luis', 'luis']\n"
     ]
    },
    {
     "data": {
      "text/plain": [
       "['luis',\n",
       " 'luis',\n",
       " 'luis',\n",
       " 'luis',\n",
       " 'luis',\n",
       " 'luis',\n",
       " 'luis',\n",
       " 'luis',\n",
       " 'luis',\n",
       " 'luis']"
      ]
     },
     "execution_count": 32,
     "metadata": {},
     "output_type": "execute_result"
    }
   ],
   "source": [
    "\n",
    "def debug(fn):\n",
    "    def wrap(*args, **kwargs):\n",
    "        print(\"--- ARGS:\",args)\n",
    "        print(\"--- KWARGS:\",kwargs)\n",
    "        ret = fn(*args, **kwargs)\n",
    "        print(\"--- RETURN:\",ret)\n",
    "        return ret\n",
    "    return wrap\n",
    "\n",
    "\n",
    "@debug\n",
    "def suma(a,b):\n",
    "    return a+b\n",
    "\n",
    "suma(5,10)\n",
    "\n",
    "\n",
    "@debug\n",
    "def multiplicapor10(nombre):\n",
    "    return [nombre] * 10\n",
    "\n",
    "multiplicapor10(\"luis\")"
   ]
  },
  {
   "cell_type": "code",
   "execution_count": 37,
   "metadata": {},
   "outputs": [
    {
     "name": "stdout",
     "output_type": "stream",
     "text": [
      "--- ARGS: ('Pepe',)\n",
      "--- KWARGS: {'idioma': 'N'}\n",
      "--- RETURN: ['Bonjour Pepe', 'Bonjour Pepe']\n"
     ]
    },
    {
     "data": {
      "text/plain": [
       "['Bonjour Pepe', 'Bonjour Pepe']"
      ]
     },
     "execution_count": 37,
     "metadata": {},
     "output_type": "execute_result"
    }
   ],
   "source": [
    "def twiceInList(fn):\n",
    "    def wrap(*args, **kwargs):\n",
    "        return [fn(*args, **kwargs),fn(*args, **kwargs)]\n",
    "    return wrap\n",
    "\n",
    "@debug\n",
    "@twiceInList\n",
    "def saluda(nombre, idioma=\"ES\"):\n",
    "    if idioma == \"ES\":\n",
    "        return f\"Hola {nombre}\"\n",
    "    else:\n",
    "        return f\"Bonjour {nombre}\"\n",
    "\n",
    "saluda(\"Pepe\",idioma=\"N\")\n"
   ]
  },
  {
   "cell_type": "code",
   "execution_count": 59,
   "metadata": {},
   "outputs": [],
   "source": [
    "from random import sample\n",
    "\n",
    "alumnos = [\n",
    "    \"*Luis Garcia-Cobaleda\",\n",
    "    \"Delia Clar Ramirez\",\n",
    "    \"*Pelayo Alvarez-Valdes\",\n",
    "    \"*Paco Anes\",\n",
    "    \"Alejandra Aranzadi\",\n",
    "    \"Marta Gracia Verdura\",\n",
    "    \"Francisco Rafael Serrano del Rey\",\n",
    "    \"*Maximiliano Sánchez\",\n",
    "    \"*Emma Machado Colloto\",\n",
    "    \"Alfonso Román Bonachera\",\n",
    "    \"*CLARA FERNANDEZ\",\n",
    "    \"Noelia Carrión Siles\",\n",
    "    \"Leticia Izquierdo\",\n",
    "    \"Marco José Rueda Águila\",\n",
    "    \"Jacobo Espinosa de los Monteros Pérez\",\n",
    "    \"Alejandro Iborra\",\n",
    "    \"Alfonso Alvarez Miranda\",\n",
    "    \"Rostyslav Koryaha\",\n",
    "    \"*Javier Molins\",\n",
    "    \"*Javier Diaz\"\n",
    "]\n",
    "\n",
    "\n",
    "recordatorio = None\n",
    "def memoriza(fn):   \n",
    "    def wrap(*args, **kwargs):\n",
    "        nonlocal recordatorio\n",
    "        if recordatorio != None:\n",
    "            print(\"Recuerdo\")\n",
    "            return recordatorio\n",
    "        rtn = fn(*args, **kwargs)\n",
    "        recordatorio = rtn\n",
    "        return rtn\n",
    "    return wrap\n"
   ]
  },
  {
   "cell_type": "code",
   "execution_count": 64,
   "metadata": {},
   "outputs": [
    {
     "name": "stdout",
     "output_type": "stream",
     "text": [
      "Recuerdo\n"
     ]
    },
    {
     "data": {
      "text/plain": [
       "['*Maximiliano Sánchez', 'Alejandro Iborra']"
      ]
     },
     "execution_count": 64,
     "metadata": {},
     "output_type": "execute_result"
    }
   ],
   "source": [
    "@memoriza\n",
    "def getTwoRandom(lst):\n",
    "    print(\"Hola\")\n",
    "    return sample(lst,2)\n",
    "\n",
    "\n",
    "getTwoRandom(alumnos)"
   ]
  },
  {
   "cell_type": "code",
   "execution_count": 74,
   "metadata": {},
   "outputs": [
    {
     "data": {
      "text/plain": [
       "'Bonjour Pepe'"
      ]
     },
     "execution_count": 74,
     "metadata": {},
     "output_type": "execute_result"
    }
   ],
   "source": [
    "import os\n",
    "def debugWithEnv():\n",
    "    enabled = os.environ.get(\"DEBUG\", False)\n",
    "    def debugWith(fn):\n",
    "        def wrap(*args, **kwargs):\n",
    "            if enabled:\n",
    "                print(\"--- ARGS:\",args)\n",
    "                print(\"--- KWARGS:\",kwargs)\n",
    "            ret = fn(*args, **kwargs)\n",
    "            if enabled:\n",
    "                print(\"--- RETURN:\",ret)\n",
    "            return ret\n",
    "        return wrap\n",
    "    return debugWith\n",
    "\n",
    "@debugWithEnv()\n",
    "def saluda(nombre, idioma=\"ES\"):\n",
    "    if idioma == \"ES\":\n",
    "        return f\"Hola {nombre}\"\n",
    "    else:\n",
    "        return f\"Bonjour {nombre}\"\n",
    "    \n",
    "saluda(\"Pepe\",idioma=\"N\")\n"
   ]
  },
  {
   "cell_type": "code",
   "execution_count": null,
   "metadata": {},
   "outputs": [],
   "source": []
  },
  {
   "cell_type": "code",
   "execution_count": null,
   "metadata": {},
   "outputs": [],
   "source": []
  }
 ],
 "metadata": {
  "kernelspec": {
   "display_name": "Python 3",
   "language": "python",
   "name": "python3"
  },
  "language_info": {
   "codemirror_mode": {
    "name": "ipython",
    "version": 3
   },
   "file_extension": ".py",
   "mimetype": "text/x-python",
   "name": "python",
   "nbconvert_exporter": "python",
   "pygments_lexer": "ipython3",
   "version": "3.7.3"
  }
 },
 "nbformat": 4,
 "nbformat_minor": 2
}
