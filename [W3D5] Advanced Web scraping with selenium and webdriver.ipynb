{
 "cells": [
  {
   "cell_type": "code",
   "execution_count": 14,
   "metadata": {},
   "outputs": [],
   "source": [
    "from bs4 import BeautifulSoup\n",
    "from selenium import webdriver\n",
    "\n",
    "class PageGetter:\n",
    "    driver = False\n",
    "    def __init__(self, defaultBrowser='firefox'):\n",
    "        if defaultBrowser == 'firefox':\n",
    "            self.driver = webdriver.Firefox()\n",
    "        elif defaultBrowser == 'chrome':\n",
    "            self.driver = webdriver.Chrome()\n",
    "        else:\n",
    "            raise Exception('Not a valid browser')\n",
    "    \n",
    "    def getPage(self, url):\n",
    "        if not self.driver:\n",
    "            raise Exception(\"You should start a browser connection\")\n",
    "        self.driver.get(url)\n",
    "        html = self.driver.page_source\n",
    "        soup = BeautifulSoup(html, 'html.parser')\n",
    "        return soup\n",
    "    \n",
    "    def close(self):\n",
    "        self.driver.quit()"
   ]
  },
  {
   "cell_type": "code",
   "execution_count": 19,
   "metadata": {},
   "outputs": [],
   "source": [
    "pg = PageGetter('firefox')\n",
    "soup1 = pg.getPage(\"https://www.ironhack.com/es\")\n",
    "#soup2 = pg.getPage(\"https://www.ironhack.com/es/cursos/web-development-bootcamp\")\n",
    "pg.close()\n"
   ]
  },
  {
   "cell_type": "code",
   "execution_count": 18,
   "metadata": {},
   "outputs": [
    {
     "data": {
      "text/plain": [
       "[<strong>Dev Squad #36</strong>,\n",
       " <strong>¿A qué te dedicabas antes de Ironhack?</strong>,\n",
       " <strong>¿Qué fue lo mejor de Ironhack?</strong>,\n",
       " <strong>¿A qué te dedicas ahora, después de Ironhack?</strong>,\n",
       " <strong>Únete a Ironhack</strong>,\n",
       " <strong>Transforma tu carrera</strong>,\n",
       " <strong>Acceso a una red global</strong>,\n",
       " <strong>Aprende creando</strong>,\n",
       " <strong>Lo primero: apoyo profesional</strong>,\n",
       " <strong>Laura Amber, UX/UI</strong>,\n",
       " <strong>Chris Peterson, UX/UI</strong>,\n",
       " <strong>Ignacio Moreno, Web Part-Time</strong>,\n",
       " <strong>Adrian del Arco, Web</strong>,\n",
       " <strong>Únete a Ironhack</strong>]"
      ]
     },
     "execution_count": 18,
     "metadata": {},
     "output_type": "execute_result"
    }
   ],
   "source": [
    "soup1.select(\"article strong\")"
   ]
  },
  {
   "cell_type": "code",
   "execution_count": null,
   "metadata": {},
   "outputs": [],
   "source": []
  }
 ],
 "metadata": {
  "kernelspec": {
   "display_name": "Python 3",
   "language": "python",
   "name": "python3"
  },
  "language_info": {
   "codemirror_mode": {
    "name": "ipython",
    "version": 3
   },
   "file_extension": ".py",
   "mimetype": "text/x-python",
   "name": "python",
   "nbconvert_exporter": "python",
   "pygments_lexer": "ipython3",
   "version": "3.7.3"
  }
 },
 "nbformat": 4,
 "nbformat_minor": 2
}
