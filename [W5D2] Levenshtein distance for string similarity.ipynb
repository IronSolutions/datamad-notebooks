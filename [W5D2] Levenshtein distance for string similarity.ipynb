{
 "cells": [
  {
   "cell_type": "code",
   "execution_count": 25,
   "metadata": {},
   "outputs": [
    {
     "name": "stdout",
     "output_type": "stream",
     "text": [
      "Requirement already satisfied: textdistance in /usr/local/lib/python3.7/site-packages (4.1.3)\n",
      "Requirement already satisfied: textdistance[Hamming] in /usr/local/lib/python3.7/site-packages (4.1.3)\n",
      "Collecting python-Levenshtein; extra == \"hamming\" (from textdistance[Hamming])\n",
      "\u001b[?25l  Downloading https://files.pythonhosted.org/packages/42/a9/d1785c85ebf9b7dfacd08938dd028209c34a0ea3b1bcdb895208bd40a67d/python-Levenshtein-0.12.0.tar.gz (48kB)\n",
      "\u001b[K    100% |████████████████████████████████| 51kB 2.2MB/s ta 0:00:01\n",
      "\u001b[?25hCollecting abydos; extra == \"hamming\" (from textdistance[Hamming])\n",
      "\u001b[?25l  Downloading https://files.pythonhosted.org/packages/4d/e8/1e88e3fff287cfa1504e8ead2ea81de102797fc820ff63bc48491877bcd6/abydos-0.4.0-py2.py3-none-any.whl (856kB)\n",
      "\u001b[K    100% |████████████████████████████████| 860kB 5.9MB/s ta 0:00:01\n",
      "\u001b[?25hCollecting distance; extra == \"hamming\" (from textdistance[Hamming])\n",
      "\u001b[?25l  Downloading https://files.pythonhosted.org/packages/5c/1a/883e47df323437aefa0d0a92ccfb38895d9416bd0b56262c2e46a47767b8/Distance-0.1.3.tar.gz (180kB)\n",
      "\u001b[K    100% |████████████████████████████████| 184kB 5.8MB/s ta 0:00:01\n",
      "\u001b[?25hCollecting jellyfish; extra == \"hamming\" (from textdistance[Hamming])\n",
      "\u001b[?25l  Downloading https://files.pythonhosted.org/packages/3f/80/bcacc7affb47be7279d7d35225e1a932416ed051b315a7f9df20acf04cbe/jellyfish-0.7.2.tar.gz (133kB)\n",
      "\u001b[K    100% |████████████████████████████████| 143kB 5.0MB/s ta 0:00:01\n",
      "\u001b[?25hRequirement already satisfied: setuptools in /usr/local/lib/python3.7/site-packages (from python-Levenshtein; extra == \"hamming\"->textdistance[Hamming]) (40.8.0)\n",
      "Collecting deprecation (from abydos; extra == \"hamming\"->textdistance[Hamming])\n",
      "  Downloading https://files.pythonhosted.org/packages/32/e9/01ffbaf3540ad54476cd7066439d629f1dd73b851cc5c0993ce2c12e1cdd/deprecation-2.0.6-py2.py3-none-any.whl\n",
      "Requirement already satisfied: numpy in /usr/local/lib/python3.7/site-packages (from abydos; extra == \"hamming\"->textdistance[Hamming]) (1.15.2)\n",
      "Requirement already satisfied: six in /usr/local/lib/python3.7/site-packages (from abydos; extra == \"hamming\"->textdistance[Hamming]) (1.11.0)\n",
      "Collecting packaging (from deprecation->abydos; extra == \"hamming\"->textdistance[Hamming])\n",
      "  Downloading https://files.pythonhosted.org/packages/91/32/58bc30e646e55eab8b21abf89e353f59c0cc02c417e42929f4a9546e1b1d/packaging-19.0-py2.py3-none-any.whl\n",
      "Requirement already satisfied: pyparsing>=2.0.2 in /usr/local/lib/python3.7/site-packages (from packaging->deprecation->abydos; extra == \"hamming\"->textdistance[Hamming]) (2.2.2)\n",
      "Building wheels for collected packages: python-Levenshtein, distance, jellyfish\n",
      "  Building wheel for python-Levenshtein (setup.py) ... \u001b[?25ldone\n",
      "\u001b[?25h  Stored in directory: /Users/boyander/Library/Caches/pip/wheels/de/c2/93/660fd5f7559049268ad2dc6d81c4e39e9e36518766eaf7e342\n",
      "  Building wheel for distance (setup.py) ... \u001b[?25ldone\n",
      "\u001b[?25h  Stored in directory: /Users/boyander/Library/Caches/pip/wheels/d5/aa/e1/dbba9e7b6d397d645d0f12db1c66dbae9c5442b39b001db18e\n",
      "  Building wheel for jellyfish (setup.py) ... \u001b[?25ldone\n",
      "\u001b[?25h  Stored in directory: /Users/boyander/Library/Caches/pip/wheels/e8/fe/99/d8fa8f2ef7b82a625b0b77a84d319b0b50693659823c4effb4\n",
      "Successfully built python-Levenshtein distance jellyfish\n",
      "Installing collected packages: python-Levenshtein, packaging, deprecation, abydos, distance, jellyfish\n",
      "Successfully installed abydos-0.4.0 deprecation-2.0.6 distance-0.1.3 jellyfish-0.7.2 packaging-19.0 python-Levenshtein-0.12.0\n"
     ]
    }
   ],
   "source": [
    "!pip3 install textdistance\n",
    "!pip3 install textdistance[Hamming]"
   ]
  },
  {
   "cell_type": "code",
   "execution_count": 26,
   "metadata": {},
   "outputs": [
    {
     "name": "stdout",
     "output_type": "stream",
     "text": [
      "['hola', 'hola'] 0\n",
      "['adios', 'Adios'] 1\n"
     ]
    }
   ],
   "source": [
    "import textdistance\n",
    "\n",
    "words = [\n",
    "    [\"hola\",\"hola\"],\n",
    "    [\"adios\",\"Adios\"]\n",
    "]\n",
    "\n",
    "\n",
    "metric = textdistance.levenshtein.distance\n",
    "zipped = zip(words,map(lambda x :metric(x[0],x[1]), words))\n",
    "\n",
    "for words, score in zipped:\n",
    "    print(words, score)"
   ]
  },
  {
   "cell_type": "code",
   "execution_count": 34,
   "metadata": {},
   "outputs": [
    {
     "data": {
      "text/plain": [
       "{'most_similar': 'adios',\n",
       " 'score_similar': 2,\n",
       " 'sorted_list': [('adios', 2),\n",
       "  ('adidas', 2),\n",
       "  ('Hola', 3),\n",
       "  ('ola', 3),\n",
       "  ('olas', 4),\n",
       "  ('getafe', 5),\n",
       "  ('geriatrico', 8),\n",
       "  ('administrador', 9)]}"
      ]
     },
     "metadata": {},
     "output_type": "display_data"
    },
    {
     "data": {
      "text/plain": [
       "{'most_similar': 'adios',\n",
       " 'score_similar': 0.4,\n",
       " 'sorted_list': [('adios', 0.4),\n",
       "  ('adidas', 0.5),\n",
       "  ('Hola', 0.75),\n",
       "  ('getafe', 0.8333333333333334),\n",
       "  ('administrador', 0.8461538461538461),\n",
       "  ('ola', 1.0),\n",
       "  ('olas', 1.0),\n",
       "  ('geriatrico', 1.0)]}"
      ]
     },
     "metadata": {},
     "output_type": "display_data"
    }
   ],
   "source": [
    "def generateScores(lst, metric, toFind):\n",
    "    scores = enumerate(map(lambda x :metric(toFind,x), lst))\n",
    "    scores = sorted(scores, key=lambda x:x[1])\n",
    "    index, score = scores[0]\n",
    "    return {\n",
    "        \"most_similar\":lst[index],\n",
    "        \"score_similar\":score,\n",
    "        \"sorted_list\": list(map(lambda x: (lst[x[0]], x[1]), scores))\n",
    "    }\n",
    "\n",
    "palabras = [\n",
    "    \"Hola\",\n",
    "    \"adios\",\n",
    "    \"getafe\",\n",
    "    \"adidas\",\n",
    "    \"administrador\",\n",
    "    \"ola\",\n",
    "    \"olas\",\n",
    "    \"geriatrico\"\n",
    "]\n",
    "\n",
    "metric1 = textdistance.levenshtein.distance\n",
    "metric2 = textdistance.hamming.normalized_distance\n",
    "display(generateScores(palabras,metric1,\"adia\"))\n",
    "display(generateScores(palabras,metric2,\"adia\"))\n"
   ]
  },
  {
   "cell_type": "code",
   "execution_count": null,
   "metadata": {},
   "outputs": [],
   "source": []
  },
  {
   "cell_type": "code",
   "execution_count": null,
   "metadata": {},
   "outputs": [],
   "source": []
  }
 ],
 "metadata": {
  "kernelspec": {
   "display_name": "Python 3",
   "language": "python",
   "name": "python3"
  },
  "language_info": {
   "codemirror_mode": {
    "name": "ipython",
    "version": 3
   },
   "file_extension": ".py",
   "mimetype": "text/x-python",
   "name": "python",
   "nbconvert_exporter": "python",
   "pygments_lexer": "ipython3",
   "version": "3.7.3"
  }
 },
 "nbformat": 4,
 "nbformat_minor": 2
}
