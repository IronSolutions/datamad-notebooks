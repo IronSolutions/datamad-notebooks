{
 "cells": [
  {
   "cell_type": "code",
   "execution_count": 1,
   "metadata": {},
   "outputs": [
    {
     "data": {
      "text/plain": [
       "[{'login': 'boyander',\n",
       "  'id': 568638,\n",
       "  'node_id': 'MDQ6VXNlcjU2ODYzOA==',\n",
       "  'avatar_url': 'https://avatars1.githubusercontent.com/u/568638?v=4',\n",
       "  'gravatar_id': '',\n",
       "  'url': 'https://api.github.com/users/boyander',\n",
       "  'html_url': 'https://github.com/boyander',\n",
       "  'followers_url': 'https://api.github.com/users/boyander/followers',\n",
       "  'following_url': 'https://api.github.com/users/boyander/following{/other_user}',\n",
       "  'gists_url': 'https://api.github.com/users/boyander/gists{/gist_id}',\n",
       "  'starred_url': 'https://api.github.com/users/boyander/starred{/owner}{/repo}',\n",
       "  'subscriptions_url': 'https://api.github.com/users/boyander/subscriptions',\n",
       "  'organizations_url': 'https://api.github.com/users/boyander/orgs',\n",
       "  'repos_url': 'https://api.github.com/users/boyander/repos',\n",
       "  'events_url': 'https://api.github.com/users/boyander/events{/privacy}',\n",
       "  'received_events_url': 'https://api.github.com/users/boyander/received_events',\n",
       "  'type': 'User',\n",
       "  'site_admin': False},\n",
       " {'login': 'jlpiedrahita',\n",
       "  'id': 1379779,\n",
       "  'node_id': 'MDQ6VXNlcjEzNzk3Nzk=',\n",
       "  'avatar_url': 'https://avatars1.githubusercontent.com/u/1379779?v=4',\n",
       "  'gravatar_id': '',\n",
       "  'url': 'https://api.github.com/users/jlpiedrahita',\n",
       "  'html_url': 'https://github.com/jlpiedrahita',\n",
       "  'followers_url': 'https://api.github.com/users/jlpiedrahita/followers',\n",
       "  'following_url': 'https://api.github.com/users/jlpiedrahita/following{/other_user}',\n",
       "  'gists_url': 'https://api.github.com/users/jlpiedrahita/gists{/gist_id}',\n",
       "  'starred_url': 'https://api.github.com/users/jlpiedrahita/starred{/owner}{/repo}',\n",
       "  'subscriptions_url': 'https://api.github.com/users/jlpiedrahita/subscriptions',\n",
       "  'organizations_url': 'https://api.github.com/users/jlpiedrahita/orgs',\n",
       "  'repos_url': 'https://api.github.com/users/jlpiedrahita/repos',\n",
       "  'events_url': 'https://api.github.com/users/jlpiedrahita/events{/privacy}',\n",
       "  'received_events_url': 'https://api.github.com/users/jlpiedrahita/received_events',\n",
       "  'type': 'User',\n",
       "  'site_admin': False},\n",
       " {'login': 'ajsb85',\n",
       "  'id': 663460,\n",
       "  'node_id': 'MDQ6VXNlcjY2MzQ2MA==',\n",
       "  'avatar_url': 'https://avatars3.githubusercontent.com/u/663460?v=4',\n",
       "  'gravatar_id': '',\n",
       "  'url': 'https://api.github.com/users/ajsb85',\n",
       "  'html_url': 'https://github.com/ajsb85',\n",
       "  'followers_url': 'https://api.github.com/users/ajsb85/followers',\n",
       "  'following_url': 'https://api.github.com/users/ajsb85/following{/other_user}',\n",
       "  'gists_url': 'https://api.github.com/users/ajsb85/gists{/gist_id}',\n",
       "  'starred_url': 'https://api.github.com/users/ajsb85/starred{/owner}{/repo}',\n",
       "  'subscriptions_url': 'https://api.github.com/users/ajsb85/subscriptions',\n",
       "  'organizations_url': 'https://api.github.com/users/ajsb85/orgs',\n",
       "  'repos_url': 'https://api.github.com/users/ajsb85/repos',\n",
       "  'events_url': 'https://api.github.com/users/ajsb85/events{/privacy}',\n",
       "  'received_events_url': 'https://api.github.com/users/ajsb85/received_events',\n",
       "  'type': 'User',\n",
       "  'site_admin': False},\n",
       " {'login': 'vagonzalez',\n",
       "  'id': 2852049,\n",
       "  'node_id': 'MDQ6VXNlcjI4NTIwNDk=',\n",
       "  'avatar_url': 'https://avatars3.githubusercontent.com/u/2852049?v=4',\n",
       "  'gravatar_id': '',\n",
       "  'url': 'https://api.github.com/users/vagonzalez',\n",
       "  'html_url': 'https://github.com/vagonzalez',\n",
       "  'followers_url': 'https://api.github.com/users/vagonzalez/followers',\n",
       "  'following_url': 'https://api.github.com/users/vagonzalez/following{/other_user}',\n",
       "  'gists_url': 'https://api.github.com/users/vagonzalez/gists{/gist_id}',\n",
       "  'starred_url': 'https://api.github.com/users/vagonzalez/starred{/owner}{/repo}',\n",
       "  'subscriptions_url': 'https://api.github.com/users/vagonzalez/subscriptions',\n",
       "  'organizations_url': 'https://api.github.com/users/vagonzalez/orgs',\n",
       "  'repos_url': 'https://api.github.com/users/vagonzalez/repos',\n",
       "  'events_url': 'https://api.github.com/users/vagonzalez/events{/privacy}',\n",
       "  'received_events_url': 'https://api.github.com/users/vagonzalez/received_events',\n",
       "  'type': 'User',\n",
       "  'site_admin': False},\n",
       " {'login': 'javimsevilla',\n",
       "  'id': 3058446,\n",
       "  'node_id': 'MDQ6VXNlcjMwNTg0NDY=',\n",
       "  'avatar_url': 'https://avatars1.githubusercontent.com/u/3058446?v=4',\n",
       "  'gravatar_id': '',\n",
       "  'url': 'https://api.github.com/users/javimsevilla',\n",
       "  'html_url': 'https://github.com/javimsevilla',\n",
       "  'followers_url': 'https://api.github.com/users/javimsevilla/followers',\n",
       "  'following_url': 'https://api.github.com/users/javimsevilla/following{/other_user}',\n",
       "  'gists_url': 'https://api.github.com/users/javimsevilla/gists{/gist_id}',\n",
       "  'starred_url': 'https://api.github.com/users/javimsevilla/starred{/owner}{/repo}',\n",
       "  'subscriptions_url': 'https://api.github.com/users/javimsevilla/subscriptions',\n",
       "  'organizations_url': 'https://api.github.com/users/javimsevilla/orgs',\n",
       "  'repos_url': 'https://api.github.com/users/javimsevilla/repos',\n",
       "  'events_url': 'https://api.github.com/users/javimsevilla/events{/privacy}',\n",
       "  'received_events_url': 'https://api.github.com/users/javimsevilla/received_events',\n",
       "  'type': 'User',\n",
       "  'site_admin': False},\n",
       " {'login': 'oriolpuig',\n",
       "  'id': 3933098,\n",
       "  'node_id': 'MDQ6VXNlcjM5MzMwOTg=',\n",
       "  'avatar_url': 'https://avatars3.githubusercontent.com/u/3933098?v=4',\n",
       "  'gravatar_id': '',\n",
       "  'url': 'https://api.github.com/users/oriolpuig',\n",
       "  'html_url': 'https://github.com/oriolpuig',\n",
       "  'followers_url': 'https://api.github.com/users/oriolpuig/followers',\n",
       "  'following_url': 'https://api.github.com/users/oriolpuig/following{/other_user}',\n",
       "  'gists_url': 'https://api.github.com/users/oriolpuig/gists{/gist_id}',\n",
       "  'starred_url': 'https://api.github.com/users/oriolpuig/starred{/owner}{/repo}',\n",
       "  'subscriptions_url': 'https://api.github.com/users/oriolpuig/subscriptions',\n",
       "  'organizations_url': 'https://api.github.com/users/oriolpuig/orgs',\n",
       "  'repos_url': 'https://api.github.com/users/oriolpuig/repos',\n",
       "  'events_url': 'https://api.github.com/users/oriolpuig/events{/privacy}',\n",
       "  'received_events_url': 'https://api.github.com/users/oriolpuig/received_events',\n",
       "  'type': 'User',\n",
       "  'site_admin': False},\n",
       " {'login': 'alfredohina',\n",
       "  'id': 41444583,\n",
       "  'node_id': 'MDQ6VXNlcjQxNDQ0NTgz',\n",
       "  'avatar_url': 'https://avatars1.githubusercontent.com/u/41444583?v=4',\n",
       "  'gravatar_id': '',\n",
       "  'url': 'https://api.github.com/users/alfredohina',\n",
       "  'html_url': 'https://github.com/alfredohina',\n",
       "  'followers_url': 'https://api.github.com/users/alfredohina/followers',\n",
       "  'following_url': 'https://api.github.com/users/alfredohina/following{/other_user}',\n",
       "  'gists_url': 'https://api.github.com/users/alfredohina/gists{/gist_id}',\n",
       "  'starred_url': 'https://api.github.com/users/alfredohina/starred{/owner}{/repo}',\n",
       "  'subscriptions_url': 'https://api.github.com/users/alfredohina/subscriptions',\n",
       "  'organizations_url': 'https://api.github.com/users/alfredohina/orgs',\n",
       "  'repos_url': 'https://api.github.com/users/alfredohina/repos',\n",
       "  'events_url': 'https://api.github.com/users/alfredohina/events{/privacy}',\n",
       "  'received_events_url': 'https://api.github.com/users/alfredohina/received_events',\n",
       "  'type': 'User',\n",
       "  'site_admin': False},\n",
       " {'login': 'gcinc91',\n",
       "  'id': 41589447,\n",
       "  'node_id': 'MDQ6VXNlcjQxNTg5NDQ3',\n",
       "  'avatar_url': 'https://avatars1.githubusercontent.com/u/41589447?v=4',\n",
       "  'gravatar_id': '',\n",
       "  'url': 'https://api.github.com/users/gcinc91',\n",
       "  'html_url': 'https://github.com/gcinc91',\n",
       "  'followers_url': 'https://api.github.com/users/gcinc91/followers',\n",
       "  'following_url': 'https://api.github.com/users/gcinc91/following{/other_user}',\n",
       "  'gists_url': 'https://api.github.com/users/gcinc91/gists{/gist_id}',\n",
       "  'starred_url': 'https://api.github.com/users/gcinc91/starred{/owner}{/repo}',\n",
       "  'subscriptions_url': 'https://api.github.com/users/gcinc91/subscriptions',\n",
       "  'organizations_url': 'https://api.github.com/users/gcinc91/orgs',\n",
       "  'repos_url': 'https://api.github.com/users/gcinc91/repos',\n",
       "  'events_url': 'https://api.github.com/users/gcinc91/events{/privacy}',\n",
       "  'received_events_url': 'https://api.github.com/users/gcinc91/received_events',\n",
       "  'type': 'User',\n",
       "  'site_admin': False}]"
      ]
     },
     "execution_count": 1,
     "metadata": {},
     "output_type": "execute_result"
    }
   ],
   "source": [
    "# Docs: https://developer.github.com/v3/\n",
    "\n",
    "import requests\n",
    "\n",
    "BASE_URL = \"https://api.github.com\"\n",
    "\n",
    "owner = \"boyander\"\n",
    "repo = \"redsys-polite\"\n",
    "\n",
    "res = requests.get(\"{}/repos/{}/{}/stargazers\".format(BASE_URL,owner, repo))\n",
    "res.json()"
   ]
  },
  {
   "cell_type": "code",
   "execution_count": 2,
   "metadata": {},
   "outputs": [],
   "source": [
    "# Github API Authentication: https://developer.github.com/v3/auth/\n",
    "import os\n",
    "from dotenv import load_dotenv\n",
    "load_dotenv()\n",
    "\n",
    "if not \"GITHUB_TOKEN\" in os.environ:\n",
    "    raise ValueError(\"You should pass a GITHUB TOKEN, see: https://github.com/settings/tokens\")\n",
    "\n",
    "GITHUB_TOKEN = os.environ[\"GITHUB_TOKEN\"]\n"
   ]
  },
  {
   "cell_type": "code",
   "execution_count": 3,
   "metadata": {},
   "outputs": [
    {
     "data": {
      "text/plain": [
       "{'login': 'boyander',\n",
       " 'id': 568638,\n",
       " 'node_id': 'MDQ6VXNlcjU2ODYzOA==',\n",
       " 'avatar_url': 'https://avatars1.githubusercontent.com/u/568638?v=4',\n",
       " 'gravatar_id': '',\n",
       " 'url': 'https://api.github.com/users/boyander',\n",
       " 'html_url': 'https://github.com/boyander',\n",
       " 'followers_url': 'https://api.github.com/users/boyander/followers',\n",
       " 'following_url': 'https://api.github.com/users/boyander/following{/other_user}',\n",
       " 'gists_url': 'https://api.github.com/users/boyander/gists{/gist_id}',\n",
       " 'starred_url': 'https://api.github.com/users/boyander/starred{/owner}{/repo}',\n",
       " 'subscriptions_url': 'https://api.github.com/users/boyander/subscriptions',\n",
       " 'organizations_url': 'https://api.github.com/users/boyander/orgs',\n",
       " 'repos_url': 'https://api.github.com/users/boyander/repos',\n",
       " 'events_url': 'https://api.github.com/users/boyander/events{/privacy}',\n",
       " 'received_events_url': 'https://api.github.com/users/boyander/received_events',\n",
       " 'type': 'User',\n",
       " 'site_admin': False,\n",
       " 'name': 'Marc Pomar Torres',\n",
       " 'company': 'Faable',\n",
       " 'blog': 'https://faable.com',\n",
       " 'location': 'Madrid, Spain',\n",
       " 'email': 'marc@faable.com',\n",
       " 'hireable': True,\n",
       " 'bio': 'Faable.com CEO. ☁Deploy next generation of cloud apps.\\r\\n\\r\\n👨🏼\\u200d💻Ironhack Lead Teacher.',\n",
       " 'public_repos': 51,\n",
       " 'public_gists': 1,\n",
       " 'followers': 165,\n",
       " 'following': 73,\n",
       " 'created_at': '2011-01-17T10:32:14Z',\n",
       " 'updated_at': '2019-06-12T08:21:38Z',\n",
       " 'private_gists': 1,\n",
       " 'total_private_repos': 5,\n",
       " 'owned_private_repos': 5,\n",
       " 'disk_usage': 47181,\n",
       " 'collaborators': 0,\n",
       " 'two_factor_authentication': True,\n",
       " 'plan': {'name': 'free',\n",
       "  'space': 976562499,\n",
       "  'collaborators': 0,\n",
       "  'private_repos': 10000}}"
      ]
     },
     "execution_count": 3,
     "metadata": {},
     "output_type": "execute_result"
    }
   ],
   "source": [
    "headers = {\n",
    "  \"Authorization\": \"token {}\".format(GITHUB_TOKEN)\n",
    "}\n",
    "\n",
    "res = requests.get(\"{}/user\".format(BASE_URL), headers=headers)\n",
    "res.json()"
   ]
  },
  {
   "cell_type": "code",
   "execution_count": 44,
   "metadata": {},
   "outputs": [
    {
     "name": "stdout",
     "output_type": "stream",
     "text": [
      "[('.0001.scavengerhunt', '98750/.0001.scavengerhunt'), ('.0002.scavengerhunt', '88596/.0002.scavengerhunt'), ('.0003.scavengerhunt', '60224/.0003.scavengerhunt'), ('.0004.scavengerhunt', '68848/.0004.scavengerhunt'), ('.0005.scavengerhunt', '44639/.0005.scavengerhunt'), ('.0006.scavengerhunt', '15024/.0006.scavengerhunt'), ('.0007.scavengerhunt', '17020/.0007.scavengerhunt'), ('.0008.scavengerhunt', '15534/.0008.scavengerhunt'), ('.0009.scavengerhunt', '97881/.0009.scavengerhunt'), ('.0010.scavengerhunt', '47830/.0010.scavengerhunt'), ('.0011.scavengerhunt', '50896/.0011.scavengerhunt'), ('.0012.scavengerhunt', '15534/.0012.scavengerhunt'), ('.0013.scavengerhunt', '89338/.0013.scavengerhunt'), ('.0014.scavengerhunt', '49418/.0014.scavengerhunt'), ('.0015.scavengerhunt', '91701/.0015.scavengerhunt'), ('.0016.scavengerhunt', '47222/.0016.scavengerhunt'), ('.0017.scavengerhunt', '70985/.0017.scavengerhunt'), ('.0018.scavengerhunt', '45525/.0018.scavengerhunt'), ('.0019.scavengerhunt', '70751/.0019.scavengerhunt'), ('.0020.scavengerhunt', '55685/.0020.scavengerhunt'), ('.0021.scavengerhunt', '30351/.0021.scavengerhunt'), ('.0022.scavengerhunt', '40303/.0022.scavengerhunt'), ('.0023.scavengerhunt', '55417/.0023.scavengerhunt'), ('.0024.scavengerhunt', '47222/.0024.scavengerhunt')]\n"
     ]
    }
   ],
   "source": [
    "headers = {\n",
    "  \"Authorization\": \"token {}\".format(GITHUB_TOKEN),\n",
    "  \"Accept\": \"application/vnd.github.mercy-preview+json\"\n",
    "}\n",
    "\n",
    "res = requests.get(\"{}/search/code?q=repo:ironhack-datalabs/scavenger+extension:scavengerhunt\".format(BASE_URL), headers=headers)\n",
    "data = res.json()\n",
    "\n",
    "lst = list(map(lambda x: (x[\"name\"],x[\"path\"]),data['items']))\n",
    "print(sorted(lst))\n",
    "files = list(map(lambda x:  \"https://raw.githubusercontent.com/ironhack-datalabs/scavenger/master/{}\".format(x[1]),sorted(lst)))\n"
   ]
  },
  {
   "cell_type": "code",
   "execution_count": 50,
   "metadata": {},
   "outputs": [],
   "source": [
    "sentencelist = list(map( lambda x: requests.get(x).text ,files))"
   ]
  },
  {
   "cell_type": "code",
   "execution_count": 53,
   "metadata": {},
   "outputs": [
    {
     "data": {
      "text/plain": [
       "'In data science, 80 percent of time spent is preparing data, 20 percent of time is spent complaining about the need to prepare data.'"
      ]
     },
     "execution_count": 53,
     "metadata": {},
     "output_type": "execute_result"
    }
   ],
   "source": [
    "' '.join(map(str.rstrip,sentencelist))"
   ]
  },
  {
   "cell_type": "code",
   "execution_count": null,
   "metadata": {},
   "outputs": [],
   "source": []
  }
 ],
 "metadata": {
  "kernelspec": {
   "display_name": "Python 3",
   "language": "python",
   "name": "python3"
  },
  "language_info": {
   "codemirror_mode": {
    "name": "ipython",
    "version": 3
   },
   "file_extension": ".py",
   "mimetype": "text/x-python",
   "name": "python",
   "nbconvert_exporter": "python",
   "pygments_lexer": "ipython3",
   "version": "3.7.3"
  }
 },
 "nbformat": 4,
 "nbformat_minor": 2
}
